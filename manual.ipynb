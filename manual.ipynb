{
  "nbformat": 4,
  "nbformat_minor": 0,
  "metadata": {
    "colab": {
      "provenance": [],
      "authorship_tag": "ABX9TyN1i6N1rEFVMlSWGLezwNBJ",
      "include_colab_link": true
    },
    "kernelspec": {
      "name": "python3",
      "display_name": "Python 3"
    },
    "language_info": {
      "name": "python"
    }
  },
  "cells": [
    {
      "cell_type": "markdown",
      "metadata": {
        "id": "view-in-github",
        "colab_type": "text"
      },
      "source": [
        "<a href=\"https://colab.research.google.com/github/starsinc1708/MusicRecomendations/blob/master/manual.ipynb\" target=\"_parent\"><img src=\"https://colab.research.google.com/assets/colab-badge.svg\" alt=\"Open In Colab\"/></a>"
      ]
    },
    {
      "cell_type": "code",
      "source": [
        "%reset"
      ],
      "metadata": {
        "id": "Maqt9Lur_CJr"
      },
      "execution_count": null,
      "outputs": []
    },
    {
      "cell_type": "markdown",
      "source": [
        "## Для начала работы необходимо загрузить файлы из репозитория на GitHub."
      ],
      "metadata": {
        "id": "65YCw7Sq1qZO"
      }
    },
    {
      "cell_type": "code",
      "execution_count": null,
      "metadata": {
        "id": "8PwPus251VEj"
      },
      "outputs": [],
      "source": [
        "!git clone https://github.com/starsinc1708/MusicRecomendations.git"
      ]
    },
    {
      "cell_type": "markdown",
      "source": [
        "## Руководство по файлам репозитория.\n",
        "### Папка Data Collection\n",
        "\n",
        "1.   all_spotify_tracks.csv - содержит в себе датасет треков Spotify с необходимыми для анализа свойствами.\n",
        "2.   your_liked_tracks.csv - содержит треки пользователя из коллекции \"Любимые треки\" своего аккаунта Spotify.\n",
        "\n",
        "\n",
        "\n",
        "\n"
      ],
      "metadata": {
        "id": "3--Myf_k16-V"
      }
    },
    {
      "cell_type": "markdown",
      "source": [
        "# Анализ Плейлиста\n",
        "## Разведочный анализ данных\n",
        "\n",
        "Spotify API предоставляет возможность получить свойства каждого трека.\n",
        "Самыми важными в данной работе являются:\n",
        "\n",
        "*   **acousticness** - АКУСТИЧНОСТЬ. Мера достоверности того, что композиция является акустической.\n",
        "*   **danceability** - ТАНЦЕВАЛЬНОСТЬ. Генерируется на основе комбинации: темпа, ритма, силы ударов в музыке.\n",
        "*   **instrumentalness** - ИНСТРУМЕНТАЛЬНОСТЬ. Показывает, какая компонента преобладает в треке голос или музыка.\n",
        "*   **loudness** - ГРОМКОСТЬ. Общая громкость композиции в децибелах (dB).\n",
        "*   **tempo** - ТЕМП. Проще говоря, количество ударов в песне в минуту (BPM);\n",
        "*   **valence** - НАСТРОЕНИЕ. Означает степень позитивности композиции.\n",
        "*   **energy** - ЭНЕРГИЧНОСТЬ. Мера интенсивности и активности.\n",
        "\n",
        "\n",
        "\n",
        "---\n",
        "\n",
        "\n",
        "**ПРИМЕЧАНИЕ**\n",
        "Если вы хотите загрузить для анализа треки из плейлиста \"Любимые треки\", то необходимо сделать следующее:\n",
        "\n",
        "*   Откройте приложение Spotify на ПК\n",
        "*   Откройте плейлист «Любимые треки» и пролистайте его в самый конец, чтобы все треки прогрузились.\n",
        "*   Нажмите на комбинацию клавиш CTRL + A\n",
        "*   ПКМ по списку песен, наводимся на «Добавить в плейлист»\n",
        "*   Выбираем существующий плейлист или создаем новый (если создаете новый, то плейлист будет называться по последней добавленной песне).\n",
        "\n",
        "\n",
        "\n",
        "---\n",
        "\n",
        "\n",
        "\n",
        "\n",
        "Код ниже предоставляет графический анализ пользовательского плейлиста, по свойствам аудио (audio_features)."
      ],
      "metadata": {
        "id": "ynyZece-45GU"
      }
    },
    {
      "cell_type": "markdown",
      "source": [
        "В ячейку ниже необходимо вставить ссылку на свой плейлист Spotify\n",
        "\n"
      ],
      "metadata": {
        "id": "uiC2ofX86wLy"
      }
    },
    {
      "cell_type": "code",
      "source": [
        "playlist_url = 'https://open.spotify.com/playlist/51WDRItSGTxLXWLLzyW08g'"
      ],
      "metadata": {
        "id": "Y4NCE9Zx5Kqf"
      },
      "execution_count": null,
      "outputs": []
    },
    {
      "cell_type": "markdown",
      "source": [
        "устанавливаем библиотеку для работы с Spotify API"
      ],
      "metadata": {
        "id": "KFUYCgN26f5S"
      }
    },
    {
      "cell_type": "code",
      "source": [
        "!pip install spotipy"
      ],
      "metadata": {
        "id": "UVC2JpEc6BQe"
      },
      "execution_count": null,
      "outputs": []
    },
    {
      "cell_type": "markdown",
      "source": [
        "Импортируем необходимые библиотеки для работы с Spotify API"
      ],
      "metadata": {
        "id": "2lSRvBuy6j-c"
      }
    },
    {
      "cell_type": "code",
      "source": [
        "import spotipy\n",
        "from matplotlib import pylab\n",
        "import matplotlib.pyplot as plt\n",
        "import seaborn as sns\n",
        "import pandas as pd\n",
        "from spotipy import SpotifyClientCredentials"
      ],
      "metadata": {
        "id": "1YKWbUBA5DeU"
      },
      "execution_count": null,
      "outputs": []
    },
    {
      "cell_type": "markdown",
      "source": [
        "## Графический анализ пользовательского плейлиста"
      ],
      "metadata": {
        "id": "iWBJ_jrs_fTY"
      }
    },
    {
      "cell_type": "code",
      "source": [
        "client_id = \"1325c0f83be24e988096fdf61f1f94d1\"\n",
        "client_secret = \"105cb7762cd64ace870270f6831f65b2\"\n",
        "redirect_uri = \"http://localhost:3000\"\n",
        "\n",
        "playlist_url = playlist_url.split(\"?\")[0]\n",
        "scope = \"user-library-read\"\n",
        "\n",
        "auth_manager = SpotifyClientCredentials(client_id=client_id, client_secret=client_secret)\n",
        "sp = spotipy.Spotify(auth_manager=auth_manager)\n",
        "\n",
        "user_playlist_tracks = {'id': [],\n",
        "                        'title': [],\n",
        "                        'main_artist': [],\n",
        "                        'acousticness': [],\n",
        "                        'danceability': [],\n",
        "                        'energy': [],\n",
        "                        'duration_ms': [],\n",
        "                        'instrumentalness': [],\n",
        "                        'key': [],\n",
        "                        'liveness': [],\n",
        "                        'loudness': [],\n",
        "                        'mode': [],\n",
        "                        'speechiness': [],\n",
        "                        'tempo': [],\n",
        "                        'time_signature': [],\n",
        "                        'valence': []}\n",
        "\n",
        "i = 0\n",
        "while True:\n",
        "    results = sp.playlist_tracks(playlist_id=playlist_url,\n",
        "                                 limit=50, offset=i)\n",
        "    if len(results['items']) != 0:\n",
        "        for idx, item in enumerate(results['items']):\n",
        "            track = item['track']\n",
        "            user_playlist_tracks['main_artist'].append(track['artists'][0]['name'])\n",
        "            user_playlist_tracks['title'].append(track['name'])\n",
        "            user_playlist_tracks['id'].append(track['id'])\n",
        "        i += 50\n",
        "    else:\n",
        "        break\n",
        "\n",
        "print(f\"---------------------------------\\n\"\n",
        "      f\"Audio Features collection started\\n\"\n",
        "      f\"PLAYLIST_ID = {playlist_url}\\n\"\n",
        "      f\"PLAYLIST_NAME = {sp.playlist(playlist_id=playlist_url)['name']}\\n\"\n",
        "      f\"---------------------------------\")\n",
        "\n",
        "for i in range(len(user_playlist_tracks['title'])):\n",
        "    tf = sp.audio_features(user_playlist_tracks['id'][i])\n",
        "    user_playlist_tracks['acousticness'].append(tf[0]['acousticness'])\n",
        "    user_playlist_tracks['danceability'].append(tf[0]['danceability'])\n",
        "    user_playlist_tracks['energy'].append(tf[0]['energy'])\n",
        "    user_playlist_tracks['duration_ms'].append(tf[0]['duration_ms'])\n",
        "    user_playlist_tracks['instrumentalness'].append(tf[0]['instrumentalness'])\n",
        "    user_playlist_tracks['key'].append(tf[0]['key'])\n",
        "    user_playlist_tracks['liveness'].append(tf[0]['liveness'])\n",
        "    user_playlist_tracks['loudness'].append(tf[0]['loudness'])\n",
        "    user_playlist_tracks['mode'].append(tf[0]['mode'])\n",
        "    user_playlist_tracks['speechiness'].append(tf[0]['speechiness'])\n",
        "    user_playlist_tracks['tempo'].append(tf[0]['tempo'])\n",
        "    user_playlist_tracks['time_signature'].append(tf[0]['time_signature'])\n",
        "    user_playlist_tracks['valence'].append(tf[0]['valence'])\n",
        "\n",
        "print(\"Audio Features collection is finished\\n\"\n",
        "      \"---------------------------------\")\n",
        "user_playlist_tracks['duration_min'] = list()\n",
        "\n",
        "for i in range(len(user_playlist_tracks['duration_ms'])):\n",
        "    user_playlist_tracks['duration_min'].append(user_playlist_tracks['duration_ms'][i] / 60000)\n",
        "\n",
        "tracks_DataFrame = pd.DataFrame.from_dict(user_playlist_tracks)\n",
        "\n",
        "ax = sns.kdeplot(tracks_DataFrame['duration_min'], fill=True, color=\"#1DB954\", cut=0)\n",
        "\n",
        "plt.xlabel(\"Длительность (в минутах)\")\n",
        "plt.ylabel(\"Распределение (в %)\")\n",
        "plt.title(\"Распределенность треков по длительности\")\n",
        "plt.show()\n",
        "\n",
        "fig, axes = plt.subplots(nrows=3, ncols=3, figsize=(7, 6), dpi=200)\n",
        "fig.subplots_adjust(hspace=1, wspace=1)\n",
        "\n",
        "pylab.subplot(3, 3, 1)\n",
        "ac = sns.kdeplot(tracks_DataFrame['acousticness'], fill=True, color=\"green\", cut=0)\n",
        "pylab.subplot(3, 3, 2)\n",
        "ac = sns.kdeplot(tracks_DataFrame['danceability'], fill=True, color=\"green\", cut=0)\n",
        "pylab.subplot(3, 3, 3)\n",
        "ac = sns.kdeplot(tracks_DataFrame['instrumentalness'], fill=True, color=\"green\", cut=0)\n",
        "pylab.subplot(3, 3, 4)\n",
        "ac = sns.kdeplot(tracks_DataFrame['liveness'], fill=True, color=\"green\", cut=0)\n",
        "pylab.subplot(3, 3, 5)\n",
        "ac = sns.kdeplot(tracks_DataFrame['loudness'], fill=True, color=\"green\", cut=0)\n",
        "pylab.subplot(3, 3, 6)\n",
        "ac = sns.kdeplot(tracks_DataFrame['speechiness'], fill=True, color=\"green\", cut=0)\n",
        "pylab.subplot(3, 3, 7)\n",
        "ac = sns.kdeplot(tracks_DataFrame['tempo'], fill=True, color=\"green\", cut=0)\n",
        "pylab.subplot(3, 3, 8)\n",
        "ac = sns.kdeplot(tracks_DataFrame['valence'], fill=True, color=\"green\", cut=0)\n",
        "pylab.subplot(3, 3, 9)\n",
        "ac = sns.kdeplot(tracks_DataFrame['energy'], fill=True, color=\"green\", cut=0)\n",
        "plt.show()"
      ],
      "metadata": {
        "id": "iW44bSAV5Omu"
      },
      "execution_count": null,
      "outputs": []
    },
    {
      "cell_type": "markdown",
      "source": [
        "# Неконтролируемое обучение\n",
        "В неконтролируемом обучении у нас существуют только входные данные (X) без соответсвующих им выходных.\n",
        "\n",
        "*Цель* - извлечение информации из взятых мной образцов без присвоенных значений \"нравится\" или \"не нравится\".\n",
        "\n",
        "---\n",
        "\n",
        "Основные проблемы неконтролируемого обучения можно сгруппировать в проблемы кластеризации и ассоциации.\n",
        "\n",
        "**Кластеризация** - суть проблемы заключается в том, что мы хотим обнаружить присущие входным данным группы. Например, группы покупателей по купленным товарам.\n",
        "\n",
        "**Ассоциация** - проблема изучения правил ассоциации заключается в том, что мы должны обнаружить правила, описывающие большие части наших входных данных.Ннапример, люди, которые покупают X, также склонны покупать Y."
      ],
      "metadata": {
        "id": "-4HDheEtAqqu"
      }
    },
    {
      "cell_type": "code",
      "source": [
        "import spotipy\n",
        "import matplotlib.pyplot as plt\n",
        "from matplotlib import pylab\n",
        "from scipy.spatial import KDTree\n",
        "from sklearn.cluster import KMeans\n",
        "from sklearn.decomposition import PCA\n",
        "from sklearn.preprocessing import StandardScaler\n",
        "from spotipy.oauth2 import SpotifyClientCredentials\n",
        "import pandas as pd\n",
        "import plotly.express as px\n",
        "import numpy as np\n",
        "import seaborn as sns\n",
        "from yellowbrick.cluster import KElbowVisualizer\n",
        "import warnings\n",
        "\n",
        "warnings.filterwarnings('ignore')"
      ],
      "metadata": {
        "id": "u1hE4I2hDwZH"
      },
      "execution_count": null,
      "outputs": []
    },
    {
      "cell_type": "markdown",
      "source": [
        "Преобразование данных, полученных от Spotify API в pandas.DataFrame:"
      ],
      "metadata": {
        "id": "i2TJS7AUFha2"
      }
    },
    {
      "cell_type": "code",
      "source": [
        "def create_data_from_playlist(uri, sp):\n",
        "    playlist_id = uri.split('/')[4]\n",
        "\n",
        "    results = sp.playlist_tracks(playlist_id=playlist_id,\n",
        "                                 limit=1, offset=0)\n",
        "\n",
        "    playlist_tracks = {'id': [],\n",
        "                       'playlist_id': [],\n",
        "                       'title': [],\n",
        "                       'main_artist': [],\n",
        "                       'acousticness': [],\n",
        "                       'danceability': [],\n",
        "                       'energy': [],\n",
        "                       'duration_ms': [],\n",
        "                       'instrumentalness': [],\n",
        "                       'key': [],\n",
        "                       'liveness': [],\n",
        "                       'loudness': [],\n",
        "                       'mode': [],\n",
        "                       'speechiness': [],\n",
        "                       'tempo': [],\n",
        "                       'time_signature': [],\n",
        "                       'valence': []}\n",
        "\n",
        "    j = 0\n",
        "    # получаем все треки текущего плейлиста\n",
        "    while True:\n",
        "        tracks = sp.playlist_tracks(playlist_id=playlist_id,\n",
        "                                    limit=50,\n",
        "                                    offset=j)\n",
        "        if len(tracks['items']) != 0:\n",
        "            # проходим по всем трекам из заполняем артиста, название, id плейлиста, id трека\n",
        "            for idx, item in enumerate(tracks['items']):\n",
        "                track = item['track']\n",
        "                playlist_tracks['main_artist'].append(track['artists'][0]['name'])\n",
        "                playlist_tracks['title'].append(track['name'])\n",
        "                playlist_tracks['playlist_id'].append(playlist_id)\n",
        "                playlist_tracks['id'].append(track['id'])\n",
        "            j += 50\n",
        "        else:\n",
        "            break\n",
        "\n",
        "    print(f\"---------------------------------\\n\"\n",
        "          f\"Audio Features collection started\\n\"\n",
        "          f\"PLAYLIST_ID = {playlist_id}\\n\"\n",
        "          f\"PLAYLIST_NAME = {sp.playlist(playlist_id=playlist_id)['name']}\\n\"\n",
        "          f\"---------------------------------\")\n",
        "\n",
        "    # заполняем audio features текущего плейлиста\n",
        "    for k in range(len(playlist_tracks['title'])):\n",
        "        tf = sp.audio_features(playlist_tracks['id'][k])\n",
        "        playlist_tracks['acousticness'].append(tf[0]['acousticness'])\n",
        "        playlist_tracks['danceability'].append(tf[0]['danceability'])\n",
        "        playlist_tracks['energy'].append(tf[0]['energy'])\n",
        "        playlist_tracks['duration_ms'].append(tf[0]['duration_ms'])\n",
        "        playlist_tracks['instrumentalness'].append(tf[0]['instrumentalness'])\n",
        "        playlist_tracks['key'].append(tf[0]['key'])\n",
        "        playlist_tracks['liveness'].append(tf[0]['liveness'])\n",
        "        playlist_tracks['loudness'].append(tf[0]['loudness'])\n",
        "        playlist_tracks['mode'].append(tf[0]['mode'])\n",
        "        playlist_tracks['speechiness'].append(tf[0]['speechiness'])\n",
        "        playlist_tracks['tempo'].append(tf[0]['tempo'])\n",
        "        playlist_tracks['time_signature'].append(tf[0]['time_signature'])\n",
        "        playlist_tracks['valence'].append(tf[0]['valence'])\n",
        "\n",
        "    print(\"Audio Features collection is finished\\n\")\n",
        "\n",
        "    playlist_tracks['duration_min'] = list()\n",
        "\n",
        "    for l in range(len(playlist_tracks['duration_ms'])):\n",
        "        playlist_tracks['duration_min'].append(playlist_tracks['duration_ms'][l] / 60000)\n",
        "\n",
        "    return playlist_tracks\n",
        "\n",
        "\n",
        "playlist_url = playlist_url.split(\"?\")[0]\n",
        "df = create_data_from_playlist(playlist_url, sp)\n",
        "data = pd.DataFrame.from_dict(df)"
      ],
      "metadata": {
        "id": "244GAC8aD1bz"
      },
      "execution_count": null,
      "outputs": []
    },
    {
      "cell_type": "code",
      "source": [
        "data.head()"
      ],
      "metadata": {
        "id": "KYzLOc3fFg3Y"
      },
      "execution_count": null,
      "outputs": []
    },
    {
      "cell_type": "code",
      "source": [
        "data = data.dropna()\n",
        "data.dtypes"
      ],
      "metadata": {
        "id": "Np5HfKpMFSL3"
      },
      "execution_count": null,
      "outputs": []
    },
    {
      "cell_type": "markdown",
      "source": [
        "## Предварительная обработка данных: преобразование признаков\n",
        "Я выполнил масштабирование признаков, чтобы на векторы главных компонентов не влияли естественные различия в масштабе признаков.\n",
        "\n",
        "Это гарантирует, что наши окончательные результаты не будут искажены функциональными единицами.\n",
        "\n",
        "Например, темп обычно находится в диапазоне от 60 до 180 ударов в минуту, в то время как большинство других аудиосвойств находится где-то между 0 и 1. Без масштабирования две песни с разными темпами всегда будут очень «далеко друг от друга», даже если значения других показателей будут близки.\n",
        "\n",
        "\n"
      ],
      "metadata": {
        "id": "4XL7REfvF75_"
      }
    },
    {
      "cell_type": "code",
      "source": [
        "features = ['danceability', 'energy', 'key', 'loudness', 'mode', 'acousticness', 'instrumentalness', 'liveness',\n",
        "                'valence', 'tempo', 'duration_ms', 'time_signature']\n",
        "scaler = StandardScaler()\n",
        "scaler.fit(data[features])\n",
        "features_scaled = scaler.transform(data[features])"
      ],
      "metadata": {
        "id": "C-a4BZwpF3mQ"
      },
      "execution_count": null,
      "outputs": []
    },
    {
      "cell_type": "markdown",
      "source": [
        "## PCA: анализ главных  компонентов\n",
        "\n",
        "**Анализ главных компонентов (PCA)** является одним из наиболее распространенных методов уменьшения линейной размерности. Он подчеркивает вариативность и выявляет сильные закономерности в наборе данных. Другими словами, он берет все переменные, а затем представляет их в меньшем пространстве, максимально сохраняя природу исходных данных.\n",
        "\n",
        "---\n",
        "\n",
        "\n",
        "*   Первая главная компонента в 1 измерении будет вмещать максимум отклонений набора данных;\n",
        "\n",
        "*   Вторая компонента будет вмещать столько оставшихся отклонений, сколько возможно, чтобы оставаться ортогональной первой компоненте, и т. д.\n",
        "\n",
        "\n"
      ],
      "metadata": {
        "id": "qK2zPlUVHEpG"
      }
    },
    {
      "cell_type": "markdown",
      "source": [
        "### PCA с 3 компонентами: 3D визуализация"
      ],
      "metadata": {
        "id": "dLXyIZDqHSB9"
      }
    },
    {
      "cell_type": "code",
      "source": [
        "pca = PCA(n_components=3, random_state=42)\n",
        "df_pca = pd.DataFrame(data=pca.fit_transform(features_scaled), columns=['PC1', 'PC2', 'PC3'])\n",
        "pca.components_\n",
        "print('Explained variation per principal component: {}'.format(pca.explained_variance_ratio_))"
      ],
      "metadata": {
        "id": "Mo7Cn8dpHNHW"
      },
      "execution_count": null,
      "outputs": []
    },
    {
      "cell_type": "code",
      "source": [
        "plt.matshow(pca.components_, cmap='viridis')\n",
        "plt.yticks([0, 1, 2], [\"First component\", \"Second component\", \"Third component\"])\n",
        "plt.colorbar()\n",
        "plt.xticks(range(len(data[features].columns)), data[features], rotation=60, ha='left')\n",
        "plt.xlabel(\"Feature\")\n",
        "plt.ylabel(\"Principal components\")"
      ],
      "metadata": {
        "id": "PT96bF4BHZls"
      },
      "execution_count": null,
      "outputs": []
    },
    {
      "cell_type": "markdown",
      "source": [
        "### Представление в 3D:\n",
        "\n",
        "Для цветового разделения на составные части следует выбрать свойство, важность которого показывает анализ выше. В случае с моим плейлистом это **танцевальность** (danceability), так как параметр **mode** слабо влияет на субъективную оценку трека."
      ],
      "metadata": {
        "id": "x2S7g807IACn"
      }
    },
    {
      "cell_type": "code",
      "source": [
        "df_pca_fix = df_pca.merge(data, left_index=True, right_index=True)\n",
        "df_pca_fix = df_pca_fix[['PC1', 'PC2', 'PC3', 'title', 'main_artist', 'danceability']]\n",
        "\n",
        "df_pca_fix.head()"
      ],
      "metadata": {
        "id": "zAsmak-_JJ34"
      },
      "execution_count": null,
      "outputs": []
    },
    {
      "cell_type": "code",
      "source": [
        "# Plot the PCA\n",
        "px.scatter_3d(df_pca_fix,\n",
        "              x='PC1',\n",
        "              y='PC2',\n",
        "              z='PC3',\n",
        "              title='Principal Component Analysis Projection (3-D)',\n",
        "              color='danceability',\n",
        "              size=np.ones(len(df_pca_fix)),\n",
        "              size_max=5,\n",
        "              height=600,\n",
        "              hover_name='title',\n",
        "              hover_data=['main_artist'],\n",
        "              color_continuous_scale=px.colors.cyclical.mygbm[:-6]).show()"
      ],
      "metadata": {
        "id": "ZjQoChUIJT-8"
      },
      "execution_count": null,
      "outputs": []
    },
    {
      "cell_type": "markdown",
      "source": [
        "Мы можем видеть позицию каждой песни и ее расстояние до других песен на основе преобразованных свойсв аудио.\n",
        "Большинство точек сосредоточено на зеленоватых участках.\n",
        "\n",
        "График также подтверждает, что danceability в некоторой степени коррелирует с PC2. Так как треки с наименьшим значением танцевальности расположены на графике на значительном удалении от большого состредоточения точек.\n"
      ],
      "metadata": {
        "id": "0RvpQsMsJowF"
      }
    },
    {
      "cell_type": "markdown",
      "source": [
        "### Уменьшение размерности с n числом компонент\n"
      ],
      "metadata": {
        "id": "ggPsGuEaKQKx"
      }
    },
    {
      "cell_type": "code",
      "source": [
        "pca = PCA()\n",
        "df_pca = pca.fit_transform(features_scaled)\n",
        "\n",
        "num_components = len(pca.explained_variance_ratio_)\n",
        "ind = np.arange(num_components)\n",
        "vals = pca.explained_variance_ratio_\n",
        "plt.figure(figsize=(10, 6))\n",
        "ax = plt.subplot(111)\n",
        "cumvals = np.cumsum(vals)\n",
        "ax.bar(ind, vals)\n",
        "ax.plot(ind, cumvals)\n",
        "ax.xaxis.set_tick_params(width=0)\n",
        "ax.yaxis.set_tick_params(width=2, length=12)\n",
        "ax.set_xlabel(\"Principal Component\")\n",
        "ax.set_ylabel(\"Variance Explained (%)\")\n",
        "plt.title('Explained Variance Per Principal Component')\n",
        "plt.show()\n",
        "\n",
        "pca = PCA(n_components=10)\n",
        "df_pca = pca.fit_transform(features_scaled)\n",
        "pca.components_\n",
        "print(pca.explained_variance_ratio_)"
      ],
      "metadata": {
        "id": "qzGx0cb7JoTf"
      },
      "execution_count": null,
      "outputs": []
    },
    {
      "cell_type": "markdown",
      "source": [
        "Можно наблюдать как после 10 компонент значение дисперсии становится чрезвычайно низким."
      ],
      "metadata": {
        "id": "vETTYZrmLFjg"
      }
    },
    {
      "cell_type": "markdown",
      "source": [
        "## Кластеризация\n",
        "**Кластеризация** — это задача разделения набора данных на группы сходства, называемые кластерами.\n",
        "\n",
        "Алгоритмы кластеризации присваивают каждой точке данных номер, указывающий, к какому кластеру она принадлежит.\n"
      ],
      "metadata": {
        "id": "kOlXlegFL3jb"
      }
    },
    {
      "cell_type": "markdown",
      "source": [
        "### Кластеризация данных с помощью K-средних\n",
        "\n",
        "Основная идея кластеризации k-средних заключается в том, что мы выбираем, сколько кластеров мы хотим создать. Мы выбираем это на основе знания предметной области (может быть, у нас есть некоторые маркетинговые исследования количества различных типов групп, которые мы ожидаем увидеть в наших клиентах), на основе «наилучшего предположения» или случайным образом.\n",
        "\n",
        "В конце у вас остаются области, которые определяют, в каком кластере будет классифицироваться вновь назначенная точка."
      ],
      "metadata": {
        "id": "c7RoTXvbMDJx"
      }
    },
    {
      "cell_type": "markdown",
      "source": [
        "#### 2D визуализация (2 кластера)"
      ],
      "metadata": {
        "id": "IA9nnGPoMPyb"
      }
    },
    {
      "cell_type": "code",
      "source": [
        "kmeans = KMeans(n_clusters=2)\n",
        "model = kmeans.fit(features_scaled)\n",
        "data_2 = data.copy()\n",
        "data_2 = data_2[features]\n",
        "data_2['labels'] = model.labels_"
      ],
      "metadata": {
        "id": "szf5HsfmMTf2"
      },
      "execution_count": null,
      "outputs": []
    },
    {
      "cell_type": "code",
      "source": [
        "data_2['labels'].value_counts()"
      ],
      "metadata": {
        "id": "uws7gBrAMhCS"
      },
      "execution_count": null,
      "outputs": []
    },
    {
      "cell_type": "code",
      "source": [
        "data_2.groupby('labels').mean()"
      ],
      "metadata": {
        "id": "4jZ64nP4MhSy"
      },
      "execution_count": null,
      "outputs": []
    },
    {
      "cell_type": "code",
      "source": [
        "sns.lmplot(data=data_2, x='valence', y='danceability', hue='labels', fit_reg=False, legend=True)\n",
        "sns.lmplot(data=data_2, x='energy', y='loudness', hue='labels', fit_reg=False, legend=True)\n",
        "sns.lmplot(data=data_2, x='danceability', y='loudness', hue='labels', fit_reg=False, legend=True)\n",
        "sns.lmplot(data=data_2, x='danceability', y='acousticness', hue='labels', fit_reg=False, legend=True)\n",
        "sns.lmplot(data=data_2, x='danceability', y='tempo', hue='labels', fit_reg=False, legend=True)"
      ],
      "metadata": {
        "id": "z_VhsMkjMjbz"
      },
      "execution_count": null,
      "outputs": []
    },
    {
      "cell_type": "markdown",
      "source": [
        "#### Оптимальное количество кластеров\n",
        "Одним из самых сложных и важных параметров для оптимизации является количество кластеров.\n",
        "\n",
        "*   Наличие слишком большого количества кластеров может означать, что мы на самом деле мало что узнали о данных — весь смысл кластеризации заключается в выявлении относительно небольшого количества сходств, существующих в наборе данных. \n",
        "*   Малое количество кластеров может означать, что мы искусственно группируем данные.\n",
        "\n",
        "---\n",
        "\n",
        "Существует множество различных методов выбора подходящего количества кластеров, но один из самых распространенных методов заключается в вычислении метрики для каждого количества кластеров, а затем построении графика зависимости функции ошибок от количества кластеров.\n",
        "\n",
        "**KElbowVisualizer** от **Yellowbrick** реализует метод **«локтя»** для выбора оптимального количества кластеров путем подбора модели K-средних с диапазоном значений для K."
      ],
      "metadata": {
        "id": "ulTvDA7QOAZP"
      }
    },
    {
      "cell_type": "code",
      "source": [
        "X = features_scaled\n",
        "model = KMeans()\n",
        "visualizer = KElbowVisualizer(model, k=(1, 10))\n",
        "visualizer.fit(X)  \n",
        "visualizer.show()  \n",
        "# fits the model for a range of  K  values from 1 to 9, which is set by the parameter k=(1,10).\n",
        "# we see that the model is fit with 3 clusters - we can see an \"elbow\" in the graph."
      ],
      "metadata": {
        "id": "gxtT9-S2OpQE"
      },
      "execution_count": null,
      "outputs": []
    },
    {
      "cell_type": "markdown",
      "source": [
        "можно видеть \"локоть на графике, который показывает оптимальное число кластеров для текущего набора данных"
      ],
      "metadata": {
        "id": "_qoQ4WLQO-b6"
      }
    },
    {
      "cell_type": "markdown",
      "source": [
        "# Создание рекомендаций \n",
        "перед выполнением следующих ячеек кода необходимо удалить предыдущие переменные."
      ],
      "metadata": {
        "id": "Qud1X3gbP_br"
      }
    },
    {
      "cell_type": "code",
      "source": [
        "%reset"
      ],
      "metadata": {
        "id": "abx1xrboRiVK"
      },
      "execution_count": null,
      "outputs": []
    },
    {
      "cell_type": "markdown",
      "source": [
        "В ячейку ниже необходимо вставить ссылку на свой плейлист Spotify\n",
        "\n",
        "**ПРИМЕЧАНИЕ**\n",
        "Если вы хотите загрузить для анализа треки из плейлиста \"Любимые треки\", то необходимо сделать следующее:\n",
        "\n",
        "*   Откройте приложение Spotify на ПК\n",
        "*   Откройте плейлист «Любимые треки» и пролистайте его в самый конец, чтобы все треки прогрузились.\n",
        "*   Нажмите на комбинацию клавиш CTRL + A\n",
        "*   ПКМ по списку песен, наводимся на «Добавить в плейлист»\n",
        "*   Выбираем существующий плейлист или создаем новый (если создаете новый, то плейлист будет называться по последней добавленной песне)."
      ],
      "metadata": {
        "id": "HRds7SU7SK6L"
      }
    },
    {
      "cell_type": "code",
      "source": [
        "playlist_url = 'https://open.spotify.com/playlist/51WDRItSGTxLXWLLzyW08g'"
      ],
      "metadata": {
        "id": "UUdzJUmJSKcD"
      },
      "execution_count": null,
      "outputs": []
    },
    {
      "cell_type": "markdown",
      "source": [
        "Выберите количество рекомендаций:"
      ],
      "metadata": {
        "id": "rXTUzX5nSk1_"
      }
    },
    {
      "cell_type": "code",
      "source": [
        "number_of_recomendations = 20"
      ],
      "metadata": {
        "id": "d-mvNUymSoW5"
      },
      "execution_count": null,
      "outputs": []
    },
    {
      "cell_type": "code",
      "source": [
        "import spotipy\n",
        "from matplotlib import pylab\n",
        "import matplotlib.pyplot as plt\n",
        "import seaborn as sns\n",
        "import pandas as pd\n",
        "from spotipy import SpotifyClientCredentials\n",
        "\n",
        "\n",
        "client_id = \"1325c0f83be24e988096fdf61f1f94d1\"\n",
        "client_secret = \"105cb7762cd64ace870270f6831f65b2\"\n",
        "redirect_uri = \"http://localhost:3000\"\n",
        "playlist_url = playlist_url.split(\"?\")[0]\n",
        "scope = \"user-library-read\"\n",
        "\n",
        "auth_manager = SpotifyClientCredentials(client_id=client_id, client_secret=client_secret)\n",
        "sp = spotipy.Spotify(auth_manager=auth_manager)"
      ],
      "metadata": {
        "id": "NyiERiujRgId"
      },
      "execution_count": null,
      "outputs": []
    },
    {
      "cell_type": "code",
      "source": [
        "def create_data_from_playlist(uri, sp):\n",
        "    playlist_id = uri.split('/')[4]\n",
        "\n",
        "    results = sp.playlist_tracks(playlist_id=playlist_id,\n",
        "                                 limit=1, offset=0)\n",
        "\n",
        "    playlist_tracks = {'id': [],\n",
        "                       'playlist_id': [],\n",
        "                       'title': [],\n",
        "                       'main_artist': [],\n",
        "                       'acousticness': [],\n",
        "                       'danceability': [],\n",
        "                       'energy': [],\n",
        "                       'duration_ms': [],\n",
        "                       'instrumentalness': [],\n",
        "                       'key': [],\n",
        "                       'liveness': [],\n",
        "                       'loudness': [],\n",
        "                       'mode': [],\n",
        "                       'speechiness': [],\n",
        "                       'tempo': [],\n",
        "                       'time_signature': [],\n",
        "                       'valence': []}\n",
        "\n",
        "    j = 0\n",
        "    # получаем все треки текущего плейлиста\n",
        "    while True:\n",
        "        tracks = sp.playlist_tracks(playlist_id=playlist_id,\n",
        "                                    limit=50,\n",
        "                                    offset=j)\n",
        "        if len(tracks['items']) != 0:\n",
        "            # проходим по всем трекам из заполняем артиста, название, id плейлиста, id трека\n",
        "            for idx, item in enumerate(tracks['items']):\n",
        "                track = item['track']\n",
        "                playlist_tracks['main_artist'].append(track['artists'][0]['name'])\n",
        "                playlist_tracks['title'].append(track['name'])\n",
        "                playlist_tracks['playlist_id'].append(playlist_id)\n",
        "                playlist_tracks['id'].append(track['id'])\n",
        "            j += 50\n",
        "        else:\n",
        "            break\n",
        "\n",
        "    print(f\"---------------------------------\\n\"\n",
        "          f\"Audio Features collection started\\n\"\n",
        "          f\"PLAYLIST_ID = {playlist_id}\\n\"\n",
        "          f\"PLAYLIST_NAME = {sp.playlist(playlist_id=playlist_id)['name']}\\n\"\n",
        "          f\"---------------------------------\")\n",
        "\n",
        "    # заполняем audio features текущего плейлиста\n",
        "    for k in range(len(playlist_tracks['title'])):\n",
        "        tf = sp.audio_features(playlist_tracks['id'][k])\n",
        "        playlist_tracks['acousticness'].append(tf[0]['acousticness'])\n",
        "        playlist_tracks['danceability'].append(tf[0]['danceability'])\n",
        "        playlist_tracks['energy'].append(tf[0]['energy'])\n",
        "        playlist_tracks['duration_ms'].append(tf[0]['duration_ms'])\n",
        "        playlist_tracks['instrumentalness'].append(tf[0]['instrumentalness'])\n",
        "        playlist_tracks['key'].append(tf[0]['key'])\n",
        "        playlist_tracks['liveness'].append(tf[0]['liveness'])\n",
        "        playlist_tracks['loudness'].append(tf[0]['loudness'])\n",
        "        playlist_tracks['mode'].append(tf[0]['mode'])\n",
        "        playlist_tracks['speechiness'].append(tf[0]['speechiness'])\n",
        "        playlist_tracks['tempo'].append(tf[0]['tempo'])\n",
        "        playlist_tracks['time_signature'].append(tf[0]['time_signature'])\n",
        "        playlist_tracks['valence'].append(tf[0]['valence'])\n",
        "\n",
        "    print(\"Audio Features collection is finished\\n\")\n",
        "\n",
        "    playlist_tracks['duration_min'] = list()\n",
        "\n",
        "    for l in range(len(playlist_tracks['duration_ms'])):\n",
        "        playlist_tracks['duration_min'].append(playlist_tracks['duration_ms'][l] / 60000)\n",
        "\n",
        "    return playlist_tracks\n",
        "\n",
        "\n",
        "df = create_data_from_playlist(playlist_url, sp)\n",
        "data = pd.DataFrame.from_dict(df)\n",
        "\n",
        "features = ['danceability',\n",
        "                'energy',\n",
        "                'key',\n",
        "                'loudness',\n",
        "                'mode',\n",
        "                'acousticness',\n",
        "                'instrumentalness',\n",
        "                'liveness',\n",
        "                'valence',\n",
        "                'tempo']"
      ],
      "metadata": {
        "id": "kCBa_X2US20N"
      },
      "execution_count": null,
      "outputs": []
    },
    {
      "cell_type": "markdown",
      "source": [
        "Загружаем данные для обучения из all_spotify_tracks.csv и удаляем из них треки, которые есть в пользовательском плейлисте."
      ],
      "metadata": {
        "id": "DFxzRIr-TmgV"
      }
    },
    {
      "cell_type": "code",
      "source": [
        "all_songs = pd.read_csv('MusicRecomendations/Data Collection/all_spotify_tracks.csv')\n",
        "all_songs.drop_duplicates(subset=\"id\", keep=False, inplace=True)\n",
        "all_songs = all_songs.loc[~(all_songs.id.isin(data['id'])), :]"
      ],
      "metadata": {
        "id": "qqiEfpsKTahz"
      },
      "execution_count": null,
      "outputs": []
    },
    {
      "cell_type": "markdown",
      "source": [
        "## Кластеризация"
      ],
      "metadata": {
        "id": "gQgVYkbLRcda"
      }
    },
    {
      "cell_type": "code",
      "source": [
        "from scipy.spatial import KDTree\n",
        "from sklearn.cluster import KMeans\n",
        "from sklearn.decomposition import PCA\n",
        "from sklearn.preprocessing import StandardScaler\n",
        "from spotipy.oauth2 import SpotifyClientCredentials\n",
        "import pandas as pd\n",
        "import plotly.express as px\n",
        "import numpy as np\n",
        "import seaborn as sns\n",
        "from yellowbrick.cluster import KElbowVisualizer\n",
        "import warnings\n",
        "warnings.filterwarnings('ignore')\n",
        "\n",
        "scaler = StandardScaler()\n",
        "scaler.fit(all_songs[features])\n",
        "all_songs_features_scaled = scaler.transform(all_songs[features])"
      ],
      "metadata": {
        "id": "lqvhB_uqT0fo"
      },
      "execution_count": null,
      "outputs": []
    },
    {
      "cell_type": "markdown",
      "source": [
        "Определяем оптимальное количество кластеров для all_tracks"
      ],
      "metadata": {
        "id": "tpH0_vNVUIO8"
      }
    },
    {
      "cell_type": "code",
      "source": [
        "X = all_songs_features_scaled\n",
        "# Instantiate the clustering model and visualizer\n",
        "model = KMeans()\n",
        "visualizer = KElbowVisualizer(model, k=(1,12))\n",
        "\n",
        "visualizer.fit(X)        # Fit the data to the visualizer\n",
        "visualizer.show()        # Finalize and render the figure"
      ],
      "metadata": {
        "id": "aklBMwMiUOpg"
      },
      "execution_count": null,
      "outputs": []
    },
    {
      "cell_type": "code",
      "source": [
        "kmean = KMeans(n_clusters=visualizer.elbow_value_)\n",
        "kmean.fit(all_songs_features_scaled)\n",
        "\n",
        "pred = kmean.labels_\n",
        "all_songs['labels'] = pred\n",
        "\n",
        "# проверка кластеров\n",
        "all_songs.head()"
      ],
      "metadata": {
        "id": "ytbrLZr6VThW"
      },
      "execution_count": null,
      "outputs": []
    },
    {
      "cell_type": "code",
      "source": [
        "all_songs['labels'].value_counts()"
      ],
      "metadata": {
        "id": "BFCpR7nJVtrU"
      },
      "execution_count": null,
      "outputs": []
    },
    {
      "cell_type": "code",
      "source": [
        "df = data.copy()\n",
        "pred_df = kmean.predict(df[features])\n",
        "\n",
        "df['songs group'] = pred_df\n",
        "\n",
        "df = df.reset_index()\n",
        "df = df.drop(columns=['index'])\n",
        "df.head()"
      ],
      "metadata": {
        "id": "crSBYi9RV7P7"
      },
      "execution_count": null,
      "outputs": []
    },
    {
      "cell_type": "markdown",
      "source": [
        "## PCA "
      ],
      "metadata": {
        "id": "jFWgCI0LXBy3"
      }
    },
    {
      "cell_type": "code",
      "source": [
        "pca = PCA(n_components=3, random_state=42)\n",
        "df_pca_all_songs = pd.DataFrame(data=pca.fit_transform(all_songs_features_scaled), columns=['PC1', 'PC2', 'PC3'])"
      ],
      "metadata": {
        "id": "6BhEjkbAXGMp"
      },
      "execution_count": null,
      "outputs": []
    },
    {
      "cell_type": "code",
      "source": [
        "pca.components_\n",
        "print('Explained variation per principal component: {}'.format(pca.explained_variance_ratio_))"
      ],
      "metadata": {
        "id": "sQufAFD8XTns"
      },
      "execution_count": null,
      "outputs": []
    },
    {
      "cell_type": "code",
      "source": [
        "plt.matshow(pca.components_, cmap='viridis')\n",
        "plt.yticks([0, 1, 2], [\"First component\", \"Second component\", \"Third component\"])\n",
        "plt.colorbar()\n",
        "plt.xticks(range(len(all_songs[features].columns)),all_songs[features], rotation=60, ha='left')\n",
        "plt.xlabel(\"Feature\")\n",
        "plt.ylabel(\"Principal components\")"
      ],
      "metadata": {
        "id": "0gzSws8sXeo5"
      },
      "execution_count": null,
      "outputs": []
    },
    {
      "cell_type": "code",
      "source": [
        "df_pca_all_songs = df_pca_all_songs.merge(all_songs, left_index=True, right_index=True)\n",
        "df_pca_all_songs = df_pca_all_songs[['PC1', 'PC2', 'PC3', 'title', 'main_artist']]\n",
        "\n",
        "df_pca_all_songs.shape"
      ],
      "metadata": {
        "id": "KfpqAVdsXjeO"
      },
      "execution_count": null,
      "outputs": []
    },
    {
      "cell_type": "code",
      "source": [
        "df_scaled = scaler.transform(df[features])\n",
        "\n",
        "# use trained PCA\n",
        "df_pca = pd.DataFrame(data=pca.transform(df_scaled), columns=['PC1','PC2','PC3'])"
      ],
      "metadata": {
        "id": "1CTwkxKWXqty"
      },
      "execution_count": null,
      "outputs": []
    },
    {
      "cell_type": "code",
      "source": [
        "df_pca = df_pca.merge(data, left_index=True, right_index=True)\n",
        "df_pca = df_pca[['PC1', 'PC2', 'PC3', 'title', 'main_artist']]\n",
        "df_pca.head()"
      ],
      "metadata": {
        "id": "e9I0TC5oXzrY"
      },
      "execution_count": null,
      "outputs": []
    },
    {
      "cell_type": "markdown",
      "source": [
        "### Получение рекомендаций от PCA и ближайших соседей"
      ],
      "metadata": {
        "id": "F_BEDpywX_KU"
      }
    },
    {
      "cell_type": "code",
      "source": [
        "columns = ['PC1', 'PC2', 'PC3']\n",
        "\n",
        "kdB = KDTree(df_pca_all_songs[columns].values)#all songs\n",
        "neighbours = kdB.query(df_pca[columns].values, k=1)[-1]\n",
        "\n",
        "print(neighbours.shape)"
      ],
      "metadata": {
        "id": "rO7KbhdpYLa8"
      },
      "execution_count": null,
      "outputs": []
    },
    {
      "cell_type": "code",
      "source": [
        "recomendations = all_songs[all_songs.index.isin(neighbours[:number_of_recomendations])]\n",
        "recomendations_output = recomendations[['title', 'main_artist']]\n",
        "recomendations_output.columns = ['Song Recommendation', 'Artist']\n",
        "recomendations_output"
      ],
      "metadata": {
        "id": "5Kaa4iONYnFr"
      },
      "execution_count": null,
      "outputs": []
    }
  ]
}