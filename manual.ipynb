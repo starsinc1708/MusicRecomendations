{
  "nbformat": 4,
  "nbformat_minor": 0,
  "metadata": {
    "colab": {
      "provenance": [],
      "authorship_tag": "ABX9TyNds20IpqpKXiu2bsZOYzz9",
      "include_colab_link": true
    },
    "kernelspec": {
      "name": "python3",
      "display_name": "Python 3"
    },
    "language_info": {
      "name": "python"
    }
  },
  "cells": [
    {
      "cell_type": "markdown",
      "metadata": {
        "id": "view-in-github",
        "colab_type": "text"
      },
      "source": [
        "<a href=\"https://colab.research.google.com/github/starsinc1708/MusicRecomendations/blob/master/manual.ipynb\" target=\"_parent\"><img src=\"https://colab.research.google.com/assets/colab-badge.svg\" alt=\"Open In Colab\"/></a>"
      ]
    },
    {
      "cell_type": "code",
      "source": [
        "%reset"
      ],
      "metadata": {
        "id": "Maqt9Lur_CJr",
        "colab": {
          "base_uri": "https://localhost:8080/"
        },
        "outputId": "74c9498a-4183-4333-85a7-16c885b794c2"
      },
      "execution_count": null,
      "outputs": [
        {
          "name": "stdout",
          "output_type": "stream",
          "text": [
            "Once deleted, variables cannot be recovered. Proceed (y/[n])? y\n"
          ]
        }
      ]
    },
    {
      "cell_type": "markdown",
      "source": [
        "## Для начала работы необходимо загрузить файлы из репозитория на GitHub."
      ],
      "metadata": {
        "id": "65YCw7Sq1qZO"
      }
    },
    {
      "cell_type": "code",
      "execution_count": null,
      "metadata": {
        "id": "8PwPus251VEj",
        "colab": {
          "base_uri": "https://localhost:8080/"
        },
        "outputId": "34693648-8912-4354-c8ff-0fe093f6cbaa"
      },
      "outputs": [
        {
          "output_type": "stream",
          "name": "stdout",
          "text": [
            "fatal: destination path 'MusicRecomendations' already exists and is not an empty directory.\n"
          ]
        }
      ],
      "source": [
        "!git clone https://github.com/starsinc1708/MusicRecomendations.git"
      ]
    },
    {
      "cell_type": "markdown",
      "source": [
        "## Руководство по файлам репозитория.\n",
        "### Папка Data Collection\n",
        "\n",
        "1.   all_spotify_tracks.csv - содержит в себе датасет треков Spotify с необходимыми для анализа свойствами.\n",
        "2.   your_liked_tracks.csv - содержит треки пользователя из коллекции \"Любимые треки\" своего аккаунта Spotify.\n",
        "\n",
        "\n",
        "\n",
        "\n"
      ],
      "metadata": {
        "id": "3--Myf_k16-V"
      }
    },
    {
      "cell_type": "markdown",
      "source": [
        "# Анализ Плейлиста\n",
        "## Разведочный анализ данных\n",
        "\n",
        "Spotify API предоставляет возможность получить свойства каждого трека.\n",
        "Самыми важными в данной работе являются:\n",
        "\n",
        "*   **acousticness** - АКУСТИЧНОСТЬ. Мера достоверности того, что композиция является акустической.\n",
        "*   **danceability** - ТАНЦЕВАЛЬНОСТЬ. Генерируется на основе комбинации: темпа, ритма, силы ударов в музыке.\n",
        "*   **instrumentalness** - ИНСТРУМЕНТАЛЬНОСТЬ. Показывает, какая компонента преобладает в треке голос или музыка.\n",
        "*   **loudness** - ГРОМКОСТЬ. Общая громкость композиции в децибелах (dB).\n",
        "*   **tempo** - ТЕМП. Проще говоря, количество ударов в песне в минуту (BPM);\n",
        "*   **valence** - НАСТРОЕНИЕ. Означает степень позитивности композиции.\n",
        "*   **energy** - ЭНЕРГИЧНОСТЬ. Мера интенсивности и активности.\n",
        "\n",
        "\n",
        "\n",
        "---\n",
        "\n",
        "\n",
        "**ПРИМЕЧАНИЕ**\n",
        "Если вы хотите загрузить для анализа треки из плейлиста \"Любимые треки\", то необходимо сделать следующее:\n",
        "\n",
        "*   Откройте приложение Spotify на ПК\n",
        "*   Откройте плейлист «Любимые треки» и пролистайте его в самый конец, чтобы все треки прогрузились.\n",
        "*   Нажмите на комбинацию клавиш CTRL + A\n",
        "*   ПКМ по списку песен, наводимся на «Добавить в плейлист»\n",
        "*   Выбираем существующий плейлист или создаем новый (если создаете новый, то плейлист будет называться по последней добавленной песне).\n",
        "\n",
        "\n",
        "\n",
        "---\n",
        "\n",
        "\n",
        "\n",
        "\n",
        "Код ниже предоставляет графический анализ пользовательского плейлиста, по свойствам аудио (audio_features)."
      ],
      "metadata": {
        "id": "ynyZece-45GU"
      }
    },
    {
      "cell_type": "markdown",
      "source": [
        "В ячейку ниже необходимо вставить ссылку на свой плейлист Spotify\n",
        "\n"
      ],
      "metadata": {
        "id": "uiC2ofX86wLy"
      }
    },
    {
      "cell_type": "code",
      "source": [
        "playlist_url = 'https://open.spotify.com/playlist/51WDRItSGTxLXWLLzyW08g'"
      ],
      "metadata": {
        "id": "Y4NCE9Zx5Kqf"
      },
      "execution_count": null,
      "outputs": []
    },
    {
      "cell_type": "markdown",
      "source": [
        "устанавливаем библиотеку для работы с Spotify API"
      ],
      "metadata": {
        "id": "KFUYCgN26f5S"
      }
    },
    {
      "cell_type": "code",
      "source": [
        "!pip install spotipy"
      ],
      "metadata": {
        "id": "UVC2JpEc6BQe",
        "colab": {
          "base_uri": "https://localhost:8080/"
        },
        "outputId": "21b4bc60-de39-4ae7-bccf-c09424a0a0f7"
      },
      "execution_count": null,
      "outputs": [
        {
          "output_type": "stream",
          "name": "stdout",
          "text": [
            "Looking in indexes: https://pypi.org/simple, https://us-python.pkg.dev/colab-wheels/public/simple/\n",
            "Requirement already satisfied: spotipy in /usr/local/lib/python3.8/dist-packages (2.22.0)\n",
            "Requirement already satisfied: redis>=3.5.3 in /usr/local/lib/python3.8/dist-packages (from spotipy) (4.4.0)\n",
            "Requirement already satisfied: requests>=2.25.0 in /usr/local/lib/python3.8/dist-packages (from spotipy) (2.25.1)\n",
            "Requirement already satisfied: urllib3>=1.26.0 in /usr/local/lib/python3.8/dist-packages (from spotipy) (1.26.13)\n",
            "Requirement already satisfied: six>=1.15.0 in /usr/local/lib/python3.8/dist-packages (from spotipy) (1.15.0)\n",
            "Requirement already satisfied: async-timeout>=4.0.2 in /usr/local/lib/python3.8/dist-packages (from redis>=3.5.3->spotipy) (4.0.2)\n",
            "Requirement already satisfied: chardet<5,>=3.0.2 in /usr/local/lib/python3.8/dist-packages (from requests>=2.25.0->spotipy) (4.0.0)\n",
            "Requirement already satisfied: certifi>=2017.4.17 in /usr/local/lib/python3.8/dist-packages (from requests>=2.25.0->spotipy) (2022.12.7)\n",
            "Requirement already satisfied: idna<3,>=2.5 in /usr/local/lib/python3.8/dist-packages (from requests>=2.25.0->spotipy) (2.10)\n"
          ]
        }
      ]
    },
    {
      "cell_type": "markdown",
      "source": [
        "Импортируем необходимые библиотеки для работы с Spotify API"
      ],
      "metadata": {
        "id": "2lSRvBuy6j-c"
      }
    },
    {
      "cell_type": "code",
      "source": [
        "import spotipy\n",
        "from matplotlib import pylab\n",
        "import matplotlib.pyplot as plt\n",
        "import seaborn as sns\n",
        "import pandas as pd\n",
        "from spotipy import SpotifyClientCredentials"
      ],
      "metadata": {
        "id": "1YKWbUBA5DeU"
      },
      "execution_count": null,
      "outputs": []
    },
    {
      "cell_type": "markdown",
      "source": [
        "## Графический анализ пользовательского плейлиста"
      ],
      "metadata": {
        "id": "iWBJ_jrs_fTY"
      }
    },
    {
      "cell_type": "code",
      "source": [
        "client_id = \"1325c0f83be24e988096fdf61f1f94d1\"\n",
        "client_secret = \"105cb7762cd64ace870270f6831f65b2\"\n",
        "redirect_uri = \"http://localhost:3000\"\n",
        "\n",
        "playlist_url = playlist_url.split(\"?\")[0]\n",
        "scope = \"user-library-read\"\n",
        "\n",
        "auth_manager = SpotifyClientCredentials(client_id=client_id, client_secret=client_secret)\n",
        "sp = spotipy.Spotify(auth_manager=auth_manager)\n",
        "\n",
        "user_playlist_tracks = {'id': [],\n",
        "                        'title': [],\n",
        "                        'main_artist': [],\n",
        "                        'acousticness': [],\n",
        "                        'danceability': [],\n",
        "                        'energy': [],\n",
        "                        'duration_ms': [],\n",
        "                        'instrumentalness': [],\n",
        "                        'key': [],\n",
        "                        'liveness': [],\n",
        "                        'loudness': [],\n",
        "                        'mode': [],\n",
        "                        'speechiness': [],\n",
        "                        'tempo': [],\n",
        "                        'time_signature': [],\n",
        "                        'valence': []}\n",
        "\n",
        "i = 0\n",
        "while True:\n",
        "    results = sp.playlist_tracks(playlist_id=playlist_url,\n",
        "                                 limit=50, offset=i)\n",
        "    if len(results['items']) != 0:\n",
        "        for idx, item in enumerate(results['items']):\n",
        "            track = item['track']\n",
        "            user_playlist_tracks['main_artist'].append(track['artists'][0]['name'])\n",
        "            user_playlist_tracks['title'].append(track['name'])\n",
        "            user_playlist_tracks['id'].append(track['id'])\n",
        "        i += 50\n",
        "    else:\n",
        "        break\n",
        "\n",
        "print(f\"---------------------------------\\n\"\n",
        "      f\"Audio Features collection started\\n\"\n",
        "      f\"PLAYLIST_ID = {playlist_url}\\n\"\n",
        "      f\"PLAYLIST_NAME = {sp.playlist(playlist_id=playlist_url)['name']}\\n\"\n",
        "      f\"---------------------------------\")\n",
        "\n",
        "for i in range(len(user_playlist_tracks['title'])):\n",
        "    tf = sp.audio_features(user_playlist_tracks['id'][i])\n",
        "    user_playlist_tracks['acousticness'].append(tf[0]['acousticness'])\n",
        "    user_playlist_tracks['danceability'].append(tf[0]['danceability'])\n",
        "    user_playlist_tracks['energy'].append(tf[0]['energy'])\n",
        "    user_playlist_tracks['duration_ms'].append(tf[0]['duration_ms'])\n",
        "    user_playlist_tracks['instrumentalness'].append(tf[0]['instrumentalness'])\n",
        "    user_playlist_tracks['key'].append(tf[0]['key'])\n",
        "    user_playlist_tracks['liveness'].append(tf[0]['liveness'])\n",
        "    user_playlist_tracks['loudness'].append(tf[0]['loudness'])\n",
        "    user_playlist_tracks['mode'].append(tf[0]['mode'])\n",
        "    user_playlist_tracks['speechiness'].append(tf[0]['speechiness'])\n",
        "    user_playlist_tracks['tempo'].append(tf[0]['tempo'])\n",
        "    user_playlist_tracks['time_signature'].append(tf[0]['time_signature'])\n",
        "    user_playlist_tracks['valence'].append(tf[0]['valence'])\n",
        "\n",
        "print(\"Audio Features collection is finished\\n\"\n",
        "      \"---------------------------------\")\n",
        "user_playlist_tracks['duration_min'] = list()\n",
        "\n",
        "for i in range(len(user_playlist_tracks['duration_ms'])):\n",
        "    user_playlist_tracks['duration_min'].append(user_playlist_tracks['duration_ms'][i] / 60000)\n",
        "\n",
        "tracks_DataFrame = pd.DataFrame.from_dict(user_playlist_tracks)\n",
        "\n",
        "ax = sns.kdeplot(tracks_DataFrame['duration_min'], fill=True, color=\"#1DB954\", cut=0)\n",
        "\n",
        "plt.xlabel(\"Длительность (в минутах)\")\n",
        "plt.ylabel(\"Распределение (в %)\")\n",
        "plt.title(\"Распределенность треков по длительности\")\n",
        "plt.show()\n",
        "\n",
        "fig, axes = plt.subplots(nrows=3, ncols=3, figsize=(7, 6), dpi=200)\n",
        "fig.subplots_adjust(hspace=1, wspace=1)\n",
        "\n",
        "pylab.subplot(3, 3, 1)\n",
        "ac = sns.kdeplot(tracks_DataFrame['acousticness'], fill=True, color=\"green\", cut=0)\n",
        "pylab.subplot(3, 3, 2)\n",
        "ac = sns.kdeplot(tracks_DataFrame['danceability'], fill=True, color=\"green\", cut=0)\n",
        "pylab.subplot(3, 3, 3)\n",
        "ac = sns.kdeplot(tracks_DataFrame['instrumentalness'], fill=True, color=\"green\", cut=0)\n",
        "pylab.subplot(3, 3, 4)\n",
        "ac = sns.kdeplot(tracks_DataFrame['liveness'], fill=True, color=\"green\", cut=0)\n",
        "pylab.subplot(3, 3, 5)\n",
        "ac = sns.kdeplot(tracks_DataFrame['loudness'], fill=True, color=\"green\", cut=0)\n",
        "pylab.subplot(3, 3, 6)\n",
        "ac = sns.kdeplot(tracks_DataFrame['speechiness'], fill=True, color=\"green\", cut=0)\n",
        "pylab.subplot(3, 3, 7)\n",
        "ac = sns.kdeplot(tracks_DataFrame['tempo'], fill=True, color=\"green\", cut=0)\n",
        "pylab.subplot(3, 3, 8)\n",
        "ac = sns.kdeplot(tracks_DataFrame['valence'], fill=True, color=\"green\", cut=0)\n",
        "pylab.subplot(3, 3, 9)\n",
        "ac = sns.kdeplot(tracks_DataFrame['energy'], fill=True, color=\"green\", cut=0)\n",
        "plt.show()"
      ],
      "metadata": {
        "id": "iW44bSAV5Omu",
        "colab": {
          "base_uri": "https://localhost:8080/",
          "height": 1000
        },
        "outputId": "202d2870-a836-46cc-fe38-f22f3573dacf"
      },
      "execution_count": null,
      "outputs": [
        {
          "output_type": "stream",
          "name": "stdout",
          "text": [
            "---------------------------------\n",
            "Audio Features collection started\n",
            "PLAYLIST_ID = https://open.spotify.com/playlist/51WDRItSGTxLXWLLzyW08g\n",
            "PLAYLIST_NAME = USER_LIKED\n",
            "---------------------------------\n",
            "Audio Features collection is finished\n",
            "---------------------------------\n"
          ]
        },
        {
          "output_type": "display_data",
          "data": {
            "text/plain": [
              "<Figure size 576x396 with 1 Axes>"
            ],
            "image/png": "[encoded data removed]"
          },
          "metadata": {}
        },
        {
          "output_type": "display_data",
          "data": {
            "text/plain": [
              "<Figure size 1400x1200 with 9 Axes>"
            ],
            "image/png": "[encoded data removed]"
          },
          "metadata": {}
        }
      ]
    },
    {
      "cell_type": "markdown",
      "source": [
        "# Неконтролируемое обучение\n",
        "В неконтролируемом обучении у нас существуют только входные данные (X) без соответсвующих им выходных.\n",
        "\n",
        "*Цель* - извлечение информации из взятых мной образцов без присвоенных значений \"нравится\" или \"не нравится\".\n",
        "\n",
        "---\n",
        "\n",
        "Основные проблемы неконтролируемого обучения можно сгруппировать в проблемы кластеризации и ассоциации.\n",
        "\n",
        "**Кластеризация** - суть проблемы заключается в том, что мы хотим обнаружить присущие входным данным группы. Например, группы покупателей по купленным товарам.\n",
        "\n",
        "**Ассоциация** - проблема изучения правил ассоциации заключается в том, что мы должны обнаружить правила, описывающие большие части наших входных данных.Ннапример, люди, которые покупают X, также склонны покупать Y."
      ],
      "metadata": {
        "id": "-4HDheEtAqqu"
      }
    },
    {
      "cell_type": "code",
      "source": [
        "import spotipy\n",
        "import matplotlib.pyplot as plt\n",
        "from matplotlib import pylab\n",
        "from scipy.spatial import KDTree\n",
        "from sklearn.cluster import KMeans\n",
        "from sklearn.decomposition import PCA\n",
        "from sklearn.preprocessing import StandardScaler\n",
        "from spotipy.oauth2 import SpotifyClientCredentials\n",
        "import pandas as pd\n",
        "import plotly.express as px\n",
        "import numpy as np\n",
        "import seaborn as sns\n",
        "from yellowbrick.cluster import KElbowVisualizer\n",
        "import warnings\n",
        "\n",
        "warnings.filterwarnings('ignore')"
      ],
      "metadata": {
        "id": "u1hE4I2hDwZH"
      },
      "execution_count": null,
      "outputs": []
    },
    {
      "cell_type": "markdown",
      "source": [
        "Преобразование данных, полученных от Spotify API в pandas.DataFrame:"
      ],
      "metadata": {
        "id": "i2TJS7AUFha2"
      }
    },
    {
      "cell_type": "code",
      "source": [
        "def create_data_from_playlist(uri, sp):\n",
        "    playlist_id = uri.split('/')[4]\n",
        "\n",
        "    results = sp.playlist_tracks(playlist_id=playlist_id,\n",
        "                                 limit=1, offset=0)\n",
        "\n",
        "    playlist_tracks = {'id': [],\n",
        "                       'playlist_id': [],\n",
        "                       'title': [],\n",
        "                       'main_artist': [],\n",
        "                       'acousticness': [],\n",
        "                       'danceability': [],\n",
        "                       'energy': [],\n",
        "                       'duration_ms': [],\n",
        "                       'instrumentalness': [],\n",
        "                       'key': [],\n",
        "                       'liveness': [],\n",
        "                       'loudness': [],\n",
        "                       'mode': [],\n",
        "                       'speechiness': [],\n",
        "                       'tempo': [],\n",
        "                       'time_signature': [],\n",
        "                       'valence': []}\n",
        "\n",
        "    j = 0\n",
        "    # получаем все треки текущего плейлиста\n",
        "    while True:\n",
        "        tracks = sp.playlist_tracks(playlist_id=playlist_id,\n",
        "                                    limit=50,\n",
        "                                    offset=j)\n",
        "        if len(tracks['items']) != 0:\n",
        "            # проходим по всем трекам из заполняем артиста, название, id плейлиста, id трека\n",
        "            for idx, item in enumerate(tracks['items']):\n",
        "                track = item['track']\n",
        "                playlist_tracks['main_artist'].append(track['artists'][0]['name'])\n",
        "                playlist_tracks['title'].append(track['name'])\n",
        "                playlist_tracks['playlist_id'].append(playlist_id)\n",
        "                playlist_tracks['id'].append(track['id'])\n",
        "            j += 50\n",
        "        else:\n",
        "            break\n",
        "\n",
        "    print(f\"---------------------------------\\n\"\n",
        "          f\"Audio Features collection started\\n\"\n",
        "          f\"PLAYLIST_ID = {playlist_id}\\n\"\n",
        "          f\"PLAYLIST_NAME = {sp.playlist(playlist_id=playlist_id)['name']}\\n\"\n",
        "          f\"---------------------------------\")\n",
        "\n",
        "    # заполняем audio features текущего плейлиста\n",
        "    for k in range(len(playlist_tracks['title'])):\n",
        "        tf = sp.audio_features(playlist_tracks['id'][k])\n",
        "        playlist_tracks['acousticness'].append(tf[0]['acousticness'])\n",
        "        playlist_tracks['danceability'].append(tf[0]['danceability'])\n",
        "        playlist_tracks['energy'].append(tf[0]['energy'])\n",
        "        playlist_tracks['duration_ms'].append(tf[0]['duration_ms'])\n",
        "        playlist_tracks['instrumentalness'].append(tf[0]['instrumentalness'])\n",
        "        playlist_tracks['key'].append(tf[0]['key'])\n",
        "        playlist_tracks['liveness'].append(tf[0]['liveness'])\n",
        "        playlist_tracks['loudness'].append(tf[0]['loudness'])\n",
        "        playlist_tracks['mode'].append(tf[0]['mode'])\n",
        "        playlist_tracks['speechiness'].append(tf[0]['speechiness'])\n",
        "        playlist_tracks['tempo'].append(tf[0]['tempo'])\n",
        "        playlist_tracks['time_signature'].append(tf[0]['time_signature'])\n",
        "        playlist_tracks['valence'].append(tf[0]['valence'])\n",
        "\n",
        "    print(\"Audio Features collection is finished\\n\")\n",
        "\n",
        "    playlist_tracks['duration_min'] = list()\n",
        "\n",
        "    for l in range(len(playlist_tracks['duration_ms'])):\n",
        "        playlist_tracks['duration_min'].append(playlist_tracks['duration_ms'][l] / 60000)\n",
        "\n",
        "    return playlist_tracks\n",
        "\n",
        "\n",
        "playlist_url = playlist_url.split(\"?\")[0]\n",
        "df = create_data_from_playlist(playlist_url, sp)\n",
        "data = pd.DataFrame.from_dict(df)"
      ],
      "metadata": {
        "id": "244GAC8aD1bz",
        "colab": {
          "base_uri": "https://localhost:8080/"
        },
        "outputId": "0c8d521c-5f2b-4cd0-f12f-87400e445a28"
      },
      "execution_count": null,
      "outputs": [
        {
          "output_type": "stream",
          "name": "stdout",
          "text": [
            "---------------------------------\n",
            "Audio Features collection started\n",
            "PLAYLIST_ID = 51WDRItSGTxLXWLLzyW08g\n",
            "PLAYLIST_NAME = USER_LIKED\n",
            "---------------------------------\n",
            "Audio Features collection is finished\n",
            "\n"
          ]
        }
      ]
    },
    {
      "cell_type": "code",
      "source": [
        "data.head()"
      ],
      "metadata": {
        "id": "KYzLOc3fFg3Y"
      },
      "execution_count": null,
      "outputs": []
    },
    {
      "cell_type": "code",
      "source": [
        "data = data.dropna()\n",
        "data.dtypes"
      ],
      "metadata": {
        "id": "Np5HfKpMFSL3"
      },
      "execution_count": null,
      "outputs": []
    },
    {
      "cell_type": "markdown",
      "source": [
        "## Предварительная обработка данных: преобразование признаков\n",
        "Я выполнил масштабирование признаков, чтобы на векторы главных компонентов не влияли естественные различия в масштабе признаков.\n",
        "\n",
        "Это гарантирует, что наши окончательные результаты не будут искажены функциональными единицами.\n",
        "\n",
        "Например, темп обычно находится в диапазоне от 60 до 180 ударов в минуту, в то время как большинство других аудиосвойств находится где-то между 0 и 1. Без масштабирования две песни с разными темпами всегда будут очень «далеко друг от друга», даже если значения других показателей будут близки.\n",
        "\n",
        "\n"
      ],
      "metadata": {
        "id": "4XL7REfvF75_"
      }
    },
    {
      "cell_type": "code",
      "source": [
        "features = ['danceability', 'energy', 'key', 'loudness', 'mode', 'acousticness', 'instrumentalness', 'liveness',\n",
        "                'valence', 'tempo', 'duration_ms', 'time_signature']\n",
        "scaler = StandardScaler()\n",
        "scaler.fit(data[features])\n",
        "features_scaled = scaler.transform(data[features])"
      ],
      "metadata": {
        "id": "C-a4BZwpF3mQ"
      },
      "execution_count": null,
      "outputs": []
    },
    {
      "cell_type": "markdown",
      "source": [
        "## PCA: анализ главных  компонентов\n",
        "\n",
        "**Анализ главных компонентов (PCA)** является одним из наиболее распространенных методов уменьшения линейной размерности. Он подчеркивает вариативность и выявляет сильные закономерности в наборе данных. Другими словами, он берет все переменные, а затем представляет их в меньшем пространстве, максимально сохраняя природу исходных данных.\n",
        "\n",
        "---\n",
        "\n",
        "\n",
        "*   Первая главная компонента в 1 измерении будет вмещать максимум отклонений набора данных;\n",
        "\n",
        "*   Вторая компонента будет вмещать столько оставшихся отклонений, сколько возможно, чтобы оставаться ортогональной первой компоненте, и т. д.\n",
        "\n",
        "\n"
      ],
      "metadata": {
        "id": "qK2zPlUVHEpG"
      }
    },
    {
      "cell_type": "markdown",
      "source": [
        "### PCA с 3 компонентами: 3D визуализация"
      ],
      "metadata": {
        "id": "dLXyIZDqHSB9"
      }
    },
    {
      "cell_type": "code",
      "source": [
        "pca = PCA(n_components=3, random_state=42)\n",
        "df_pca = pd.DataFrame(data=pca.fit_transform(features_scaled), columns=['PC1', 'PC2', 'PC3'])\n",
        "pca.components_\n",
        "print('Explained variation per principal component: {}'.format(pca.explained_variance_ratio_))"
      ],
      "metadata": {
        "id": "Mo7Cn8dpHNHW"
      },
      "execution_count": null,
      "outputs": []
    },
    {
      "cell_type": "code",
      "source": [
        "plt.matshow(pca.components_, cmap='viridis')\n",
        "plt.yticks([0, 1, 2], [\"First component\", \"Second component\", \"Third component\"])\n",
        "plt.colorbar()\n",
        "plt.xticks(range(len(data[features].columns)), data[features], rotation=60, ha='left')\n",
        "plt.xlabel(\"Feature\")\n",
        "plt.ylabel(\"Principal components\")"
      ],
      "metadata": {
        "id": "PT96bF4BHZls"
      },
      "execution_count": null,
      "outputs": []
    },
    {
      "cell_type": "markdown",
      "source": [
        "### Представление в 3D:\n",
        "\n",
        "Для цветового разделения на составные части следует выбрать свойство, важность которого показывает анализ выше. В случае с моим плейлистом это **танцевальность** (danceability), так как параметр **mode** слабо влияет на субъективную оценку трека."
      ],
      "metadata": {
        "id": "x2S7g807IACn"
      }
    },
    {
      "cell_type": "code",
      "source": [
        "df_pca_fix = df_pca.merge(data, left_index=True, right_index=True)\n",
        "df_pca_fix = df_pca_fix[['PC1', 'PC2', 'PC3', 'title', 'main_artist', 'danceability']]\n",
        "\n",
        "df_pca_fix.head()"
      ],
      "metadata": {
        "id": "zAsmak-_JJ34"
      },
      "execution_count": null,
      "outputs": []
    },
    {
      "cell_type": "code",
      "source": [
        "# Plot the PCA\n",
        "px.scatter_3d(df_pca_fix,\n",
        "              x='PC1',\n",
        "              y='PC2',\n",
        "              z='PC3',\n",
        "              title='Principal Component Analysis Projection (3-D)',\n",
        "              color='danceability',\n",
        "              size=np.ones(len(df_pca_fix)),\n",
        "              size_max=5,\n",
        "              height=600,\n",
        "              hover_name='title',\n",
        "              hover_data=['main_artist'],\n",
        "              color_continuous_scale=px.colors.cyclical.mygbm[:-6]).show()"
      ],
      "metadata": {
        "id": "ZjQoChUIJT-8"
      },
      "execution_count": null,
      "outputs": []
    },
    {
      "cell_type": "markdown",
      "source": [
        "Мы можем видеть позицию каждой песни и ее расстояние до других песен на основе преобразованных свойсв аудио.\n",
        "Большинство точек сосредоточено на зеленоватых участках.\n",
        "\n",
        "График также подтверждает, что danceability в некоторой степени коррелирует с PC2. Так как треки с наименьшим значением танцевальности расположены на графике на значительном удалении от большого состредоточения точек.\n"
      ],
      "metadata": {
        "id": "0RvpQsMsJowF"
      }
    },
    {
      "cell_type": "markdown",
      "source": [
        "### Уменьшение размерности с n числом компонент\n"
      ],
      "metadata": {
        "id": "ggPsGuEaKQKx"
      }
    },
    {
      "cell_type": "code",
      "source": [
        "pca = PCA()\n",
        "df_pca = pca.fit_transform(features_scaled)\n",
        "\n",
        "num_components = len(pca.explained_variance_ratio_)\n",
        "ind = np.arange(num_components)\n",
        "vals = pca.explained_variance_ratio_\n",
        "plt.figure(figsize=(10, 6))\n",
        "ax = plt.subplot(111)\n",
        "cumvals = np.cumsum(vals)\n",
        "ax.bar(ind, vals)\n",
        "ax.plot(ind, cumvals)\n",
        "ax.xaxis.set_tick_params(width=0)\n",
        "ax.yaxis.set_tick_params(width=2, length=12)\n",
        "ax.set_xlabel(\"Principal Component\")\n",
        "ax.set_ylabel(\"Variance Explained (%)\")\n",
        "plt.title('Explained Variance Per Principal Component')\n",
        "plt.show()\n",
        "\n",
        "pca = PCA(n_components=10)\n",
        "df_pca = pca.fit_transform(features_scaled)\n",
        "pca.components_\n",
        "print(pca.explained_variance_ratio_)"
      ],
      "metadata": {
        "id": "qzGx0cb7JoTf"
      },
      "execution_count": null,
      "outputs": []
    },
    {
      "cell_type": "markdown",
      "source": [
        "Можно наблюдать как после 10 компонент значение дисперсии становится чрезвычайно низким."
      ],
      "metadata": {
        "id": "vETTYZrmLFjg"
      }
    },
    {
      "cell_type": "markdown",
      "source": [
        "## Кластеризация\n",
        "**Кластеризация** — это задача разделения набора данных на группы сходства, называемые кластерами.\n",
        "\n",
        "Алгоритмы кластеризации присваивают каждой точке данных номер, указывающий, к какому кластеру она принадлежит.\n"
      ],
      "metadata": {
        "id": "kOlXlegFL3jb"
      }
    },
    {
      "cell_type": "markdown",
      "source": [
        "### Кластеризация данных с помощью K-средних\n",
        "\n",
        "Основная идея кластеризации k-средних заключается в том, что мы выбираем, сколько кластеров мы хотим создать. Мы выбираем это на основе знания предметной области (может быть, у нас есть некоторые маркетинговые исследования количества различных типов групп, которые мы ожидаем увидеть в наших клиентах), на основе «наилучшего предположения» или случайным образом.\n",
        "\n",
        "В конце у вас остаются области, которые определяют, в каком кластере будет классифицироваться вновь назначенная точка."
      ],
      "metadata": {
        "id": "c7RoTXvbMDJx"
      }
    },
    {
      "cell_type": "markdown",
      "source": [
        "#### 2D визуализация (2 кластера)"
      ],
      "metadata": {
        "id": "IA9nnGPoMPyb"
      }
    },
    {
      "cell_type": "code",
      "source": [
        "kmeans = KMeans(n_clusters=2)\n",
        "model = kmeans.fit(features_scaled)\n",
        "data_2 = data.copy()\n",
        "data_2 = data_2[features]\n",
        "data_2['labels'] = model.labels_"
      ],
      "metadata": {
        "id": "szf5HsfmMTf2"
      },
      "execution_count": null,
      "outputs": []
    },
    {
      "cell_type": "code",
      "source": [
        "data_2['labels'].value_counts()"
      ],
      "metadata": {
        "id": "uws7gBrAMhCS"
      },
      "execution_count": null,
      "outputs": []
    },
    {
      "cell_type": "code",
      "source": [
        "data_2.groupby('labels').mean()"
      ],
      "metadata": {
        "id": "4jZ64nP4MhSy"
      },
      "execution_count": null,
      "outputs": []
    },
    {
      "cell_type": "code",
      "source": [
        "sns.lmplot(data=data_2, x='valence', y='danceability', hue='labels', fit_reg=False, legend=True)\n",
        "sns.lmplot(data=data_2, x='energy', y='loudness', hue='labels', fit_reg=False, legend=True)\n",
        "sns.lmplot(data=data_2, x='danceability', y='loudness', hue='labels', fit_reg=False, legend=True)\n",
        "sns.lmplot(data=data_2, x='danceability', y='acousticness', hue='labels', fit_reg=False, legend=True)\n",
        "sns.lmplot(data=data_2, x='danceability', y='tempo', hue='labels', fit_reg=False, legend=True)"
      ],
      "metadata": {
        "id": "z_VhsMkjMjbz"
      },
      "execution_count": null,
      "outputs": []
    },
    {
      "cell_type": "markdown",
      "source": [
        "#### Оптимальное количество кластеров\n",
        "Одним из самых сложных и важных параметров для оптимизации является количество кластеров.\n",
        "\n",
        "*   Наличие слишком большого количества кластеров может означать, что мы на самом деле мало что узнали о данных — весь смысл кластеризации заключается в выявлении относительно небольшого количества сходств, существующих в наборе данных. \n",
        "*   Малое количество кластеров может означать, что мы искусственно группируем данные.\n",
        "\n",
        "---\n",
        "\n",
        "Существует множество различных методов выбора подходящего количества кластеров, но один из самых распространенных методов заключается в вычислении метрики для каждого количества кластеров, а затем построении графика зависимости функции ошибок от количества кластеров.\n",
        "\n",
        "**KElbowVisualizer** от **Yellowbrick** реализует метод **«локтя»** для выбора оптимального количества кластеров путем подбора модели K-средних с диапазоном значений для K."
      ],
      "metadata": {
        "id": "ulTvDA7QOAZP"
      }
    },
    {
      "cell_type": "code",
      "source": [
        "X = features_scaled\n",
        "model = KMeans()\n",
        "visualizer = KElbowVisualizer(model, k=(1, 10))\n",
        "visualizer.fit(X)  \n",
        "visualizer.show()  \n",
        "# fits the model for a range of  K  values from 1 to 9, which is set by the parameter k=(1,10).\n",
        "# we see that the model is fit with 3 clusters - we can see an \"elbow\" in the graph."
      ],
      "metadata": {
        "id": "gxtT9-S2OpQE"
      },
      "execution_count": null,
      "outputs": []
    },
    {
      "cell_type": "markdown",
      "source": [
        "можно видеть \"локоть на графике, который показывает оптимальное число кластеров для текущего набора данных"
      ],
      "metadata": {
        "id": "_qoQ4WLQO-b6"
      }
    },
    {
      "cell_type": "markdown",
      "source": [
        "# Создание рекомендаций \n",
        "перед выполнением следующих ячеек кода необходимо удалить предыдущие переменные."
      ],
      "metadata": {
        "id": "Qud1X3gbP_br"
      }
    },
    {
      "cell_type": "code",
      "source": [
        "%reset"
      ],
      "metadata": {
        "id": "abx1xrboRiVK",
        "colab": {
          "base_uri": "https://localhost:8080/"
        },
        "outputId": "353965c0-1958-453f-883d-a23dfec16b3b"
      },
      "execution_count": null,
      "outputs": [
        {
          "name": "stdout",
          "output_type": "stream",
          "text": [
            "Once deleted, variables cannot be recovered. Proceed (y/[n])? y\n"
          ]
        }
      ]
    },
    {
      "cell_type": "markdown",
      "source": [
        "В ячейку ниже необходимо вставить ссылку на свой плейлист Spotify\n",
        "\n",
        "**ПРИМЕЧАНИЕ**\n",
        "Если вы хотите загрузить для анализа треки из плейлиста \"Любимые треки\", то необходимо сделать следующее:\n",
        "\n",
        "*   Откройте приложение Spotify на ПК\n",
        "*   Откройте плейлист «Любимые треки» и пролистайте его в самый конец, чтобы все треки прогрузились.\n",
        "*   Нажмите на комбинацию клавиш CTRL + A\n",
        "*   ПКМ по списку песен, наводимся на «Добавить в плейлист»\n",
        "*   Выбираем существующий плейлист или создаем новый (если создаете новый, то плейлист будет называться по последней добавленной песне)."
      ],
      "metadata": {
        "id": "HRds7SU7SK6L"
      }
    },
    {
      "cell_type": "code",
      "source": [
        "playlist_url = 'https://open.spotify.com/playlist/51WDRItSGTxLXWLLzyW08g'"
      ],
      "metadata": {
        "id": "UUdzJUmJSKcD"
      },
      "execution_count": null,
      "outputs": []
    },
    {
      "cell_type": "markdown",
      "source": [
        "Выберите количество рекомендаций:"
      ],
      "metadata": {
        "id": "rXTUzX5nSk1_"
      }
    },
    {
      "cell_type": "code",
      "source": [
        "number_of_recomendations = 15"
      ],
      "metadata": {
        "id": "d-mvNUymSoW5"
      },
      "execution_count": 230,
      "outputs": []
    },
    {
      "cell_type": "code",
      "source": [
        "import spotipy\n",
        "from matplotlib import pylab\n",
        "import matplotlib.pyplot as plt\n",
        "import seaborn as sns\n",
        "import pandas as pd\n",
        "from spotipy import SpotifyClientCredentials\n",
        "\n",
        "\n",
        "client_id = \"1325c0f83be24e988096fdf61f1f94d1\"\n",
        "client_secret = \"105cb7762cd64ace870270f6831f65b2\"\n",
        "redirect_uri = \"http://localhost:3000\"\n",
        "playlist_url = playlist_url.split(\"?\")[0]\n",
        "scope = \"user-library-read\"\n",
        "\n",
        "auth_manager = SpotifyClientCredentials(client_id=client_id, client_secret=client_secret)\n",
        "sp = spotipy.Spotify(auth_manager=auth_manager)"
      ],
      "metadata": {
        "id": "NyiERiujRgId"
      },
      "execution_count": null,
      "outputs": []
    },
    {
      "cell_type": "code",
      "source": [
        "def create_data_from_playlist(uri, sp):\n",
        "    playlist_id = uri.split('/')[4]\n",
        "\n",
        "    results = sp.playlist_tracks(playlist_id=playlist_id,\n",
        "                                 limit=1, offset=0)\n",
        "\n",
        "    playlist_tracks = {'id': [],\n",
        "                       'playlist_id': [],\n",
        "                       'title': [],\n",
        "                       'main_artist': [],\n",
        "                       'acousticness': [],\n",
        "                       'danceability': [],\n",
        "                       'energy': [],\n",
        "                       'duration_ms': [],\n",
        "                       'instrumentalness': [],\n",
        "                       'key': [],\n",
        "                       'liveness': [],\n",
        "                       'loudness': [],\n",
        "                       'mode': [],\n",
        "                       'speechiness': [],\n",
        "                       'tempo': [],\n",
        "                       'time_signature': [],\n",
        "                       'valence': []}\n",
        "\n",
        "    j = 0\n",
        "    # получаем все треки текущего плейлиста\n",
        "    while True:\n",
        "        tracks = sp.playlist_tracks(playlist_id=playlist_id,\n",
        "                                    limit=50,\n",
        "                                    offset=j)\n",
        "        if len(tracks['items']) != 0:\n",
        "            # проходим по всем трекам из заполняем артиста, название, id плейлиста, id трека\n",
        "            for idx, item in enumerate(tracks['items']):\n",
        "                track = item['track']\n",
        "                playlist_tracks['main_artist'].append(track['artists'][0]['name'])\n",
        "                playlist_tracks['title'].append(track['name'])\n",
        "                playlist_tracks['playlist_id'].append(playlist_id)\n",
        "                playlist_tracks['id'].append(track['id'])\n",
        "            j += 50\n",
        "        else:\n",
        "            break\n",
        "\n",
        "    print(f\"---------------------------------\\n\"\n",
        "          f\"Audio Features collection started\\n\"\n",
        "          f\"PLAYLIST_ID = {playlist_id}\\n\"\n",
        "          f\"PLAYLIST_NAME = {sp.playlist(playlist_id=playlist_id)['name']}\\n\"\n",
        "          f\"---------------------------------\")\n",
        "\n",
        "    # заполняем audio features текущего плейлиста\n",
        "    for k in range(len(playlist_tracks['title'])):\n",
        "        tf = sp.audio_features(playlist_tracks['id'][k])\n",
        "        playlist_tracks['acousticness'].append(tf[0]['acousticness'])\n",
        "        playlist_tracks['danceability'].append(tf[0]['danceability'])\n",
        "        playlist_tracks['energy'].append(tf[0]['energy'])\n",
        "        playlist_tracks['duration_ms'].append(tf[0]['duration_ms'])\n",
        "        playlist_tracks['instrumentalness'].append(tf[0]['instrumentalness'])\n",
        "        playlist_tracks['key'].append(tf[0]['key'])\n",
        "        playlist_tracks['liveness'].append(tf[0]['liveness'])\n",
        "        playlist_tracks['loudness'].append(tf[0]['loudness'])\n",
        "        playlist_tracks['mode'].append(tf[0]['mode'])\n",
        "        playlist_tracks['speechiness'].append(tf[0]['speechiness'])\n",
        "        playlist_tracks['tempo'].append(tf[0]['tempo'])\n",
        "        playlist_tracks['time_signature'].append(tf[0]['time_signature'])\n",
        "        playlist_tracks['valence'].append(tf[0]['valence'])\n",
        "\n",
        "    print(\"Audio Features collection is finished\\n\")\n",
        "\n",
        "    playlist_tracks['duration_min'] = list()\n",
        "\n",
        "    for l in range(len(playlist_tracks['duration_ms'])):\n",
        "        playlist_tracks['duration_min'].append(playlist_tracks['duration_ms'][l] / 60000)\n",
        "\n",
        "    return playlist_tracks\n",
        "\n",
        "\n",
        "df = create_data_from_playlist(playlist_url, sp)\n",
        "data = pd.DataFrame.from_dict(df)\n",
        "\n",
        "features = ['danceability',\n",
        "                'energy',\n",
        "                'key',\n",
        "                'loudness',\n",
        "                'mode',\n",
        "                'acousticness',\n",
        "                'instrumentalness',\n",
        "                'liveness',\n",
        "                'valence',\n",
        "                'tempo']"
      ],
      "metadata": {
        "id": "kCBa_X2US20N",
        "colab": {
          "base_uri": "https://localhost:8080/"
        },
        "outputId": "4b04f0a5-846c-4691-d494-c378b60bc530"
      },
      "execution_count": null,
      "outputs": [
        {
          "output_type": "stream",
          "name": "stdout",
          "text": [
            "---------------------------------\n",
            "Audio Features collection started\n",
            "PLAYLIST_ID = 51WDRItSGTxLXWLLzyW08g\n",
            "PLAYLIST_NAME = USER_LIKED\n",
            "---------------------------------\n",
            "Audio Features collection is finished\n",
            "\n"
          ]
        }
      ]
    },
    {
      "cell_type": "markdown",
      "source": [
        "Загружаем данные для обучения из all_spotify_tracks.csv и удаляем из них треки, которые есть в пользовательском плейлисте."
      ],
      "metadata": {
        "id": "DFxzRIr-TmgV"
      }
    },
    {
      "cell_type": "code",
      "source": [
        "all_songs = pd.read_csv('MusicRecomendations/Data Collection/all_spotify_tracks.csv')\n",
        "all_songs.drop_duplicates(subset=\"id\", keep=False, inplace=True)\n",
        "all_songs = all_songs.loc[~(all_songs.id.isin(data['id'])), :]"
      ],
      "metadata": {
        "id": "qqiEfpsKTahz"
      },
      "execution_count": null,
      "outputs": []
    },
    {
      "cell_type": "markdown",
      "source": [
        "## Кластеризация"
      ],
      "metadata": {
        "id": "gQgVYkbLRcda"
      }
    },
    {
      "cell_type": "code",
      "source": [
        "from scipy.spatial import KDTree\n",
        "from sklearn.cluster import KMeans\n",
        "from sklearn.decomposition import PCA\n",
        "from sklearn.preprocessing import StandardScaler\n",
        "from spotipy.oauth2 import SpotifyClientCredentials\n",
        "import pandas as pd\n",
        "import plotly.express as px\n",
        "import numpy as np\n",
        "import seaborn as sns\n",
        "from yellowbrick.cluster import KElbowVisualizer\n",
        "import warnings\n",
        "warnings.filterwarnings('ignore')\n",
        "\n",
        "scaler = StandardScaler()\n",
        "scaler.fit(all_songs[features])\n",
        "all_songs_features_scaled = scaler.transform(all_songs[features])"
      ],
      "metadata": {
        "id": "lqvhB_uqT0fo"
      },
      "execution_count": null,
      "outputs": []
    },
    {
      "cell_type": "markdown",
      "source": [
        "Определяем оптимальное количество кластеров для all_tracks"
      ],
      "metadata": {
        "id": "tpH0_vNVUIO8"
      }
    },
    {
      "cell_type": "code",
      "source": [
        "X = all_songs_features_scaled\n",
        "# Instantiate the clustering model and visualizer\n",
        "model = KMeans()\n",
        "visualizer = KElbowVisualizer(model, k=(1,12))\n",
        "\n",
        "visualizer.fit(X)        # Fit the data to the visualizer\n",
        "visualizer.show()        # Finalize and render the figure"
      ],
      "metadata": {
        "id": "aklBMwMiUOpg",
        "colab": {
          "base_uri": "https://localhost:8080/",
          "height": 393
        },
        "outputId": "a71df9ea-06e4-4818-858b-aaf25bc1a852"
      },
      "execution_count": null,
      "outputs": [
        {
          "output_type": "display_data",
          "data": {
            "text/plain": [
              "<Figure size 576x396 with 2 Axes>"
            ],
            "image/png": "[encoded data removed]"
          },
          "metadata": {}
        },
        {
          "output_type": "execute_result",
          "data": {
            "text/plain": [
              "<matplotlib.axes._subplots.AxesSubplot at 0x7f29cceb5fd0>"
            ]
          },
          "metadata": {},
          "execution_count": 138
        }
      ]
    },
    {
      "cell_type": "code",
      "source": [
        "kmean = KMeans(n_clusters=visualizer.elbow_value_)\n",
        "kmean.fit(all_songs_features_scaled)\n",
        "\n",
        "pred = kmean.labels_\n",
        "all_songs['labels'] = pred\n",
        "\n",
        "# проверка кластеров\n",
        "all_songs.head()"
      ],
      "metadata": {
        "id": "ytbrLZr6VThW",
        "colab": {
          "base_uri": "https://localhost:8080/",
          "height": 496
        },
        "outputId": "2f1590c6-af98-4784-c968-546548ea60e9"
      },
      "execution_count": null,
      "outputs": [
        {
          "output_type": "execute_result",
          "data": {
            "text/plain": [
              "                       id             playlist_id  \\\n",
              "0  1Qrg8KqiBpW07V7PNxwwwL  37i9dQZF1DXcBWIGoYBM5M   \n",
              "1  0V3wPSX9ygBnCm8psDIegu  37i9dQZF1DXcBWIGoYBM5M   \n",
              "2  0WtM2NBVQNNJLh6scP13H8  37i9dQZF1DXcBWIGoYBM5M   \n",
              "3  2dHHgzDwk4BJdRwy9uXhTO  37i9dQZF1DXcBWIGoYBM5M   \n",
              "4  3nqQXoyQOWXiESFLlDF1hG  37i9dQZF1DXcBWIGoYBM5M   \n",
              "\n",
              "                                    title   main_artist  acousticness  \\\n",
              "0                               Kill Bill           SZA        0.0521   \n",
              "1                               Anti-Hero  Taylor Swift        0.1300   \n",
              "2           Calm Down (with Selena Gomez)          Rema        0.3820   \n",
              "3  Creepin' (with The Weeknd & 21 Savage)  Metro Boomin        0.4170   \n",
              "4               Unholy (feat. Kim Petras)     Sam Smith        0.0130   \n",
              "\n",
              "   danceability  energy  duration_ms  instrumentalness   key  liveness  \\\n",
              "0         0.644   0.735     153947.0          0.144000   8.0    0.1610   \n",
              "1         0.637   0.643     200690.0          0.000002   4.0    0.1420   \n",
              "2         0.801   0.806     239318.0          0.000669  11.0    0.1140   \n",
              "3         0.715   0.620     221520.0          0.000000   1.0    0.0822   \n",
              "4         0.714   0.472     156943.0          0.000005   2.0    0.2660   \n",
              "\n",
              "   loudness  mode  speechiness    tempo  time_signature  valence  \\\n",
              "0    -5.747   1.0       0.0391   88.980             4.0    0.418   \n",
              "1    -6.571   1.0       0.0519   97.008             4.0    0.533   \n",
              "2    -5.206   1.0       0.0381  106.999             4.0    0.802   \n",
              "3    -6.005   0.0       0.0484   97.950             4.0    0.172   \n",
              "4    -7.375   1.0       0.0864  131.121             4.0    0.238   \n",
              "\n",
              "         duration_min  labels  \n",
              "0   2.565783333333333       1  \n",
              "1  3.3448333333333333       1  \n",
              "2  3.9886333333333335       1  \n",
              "3               3.692       2  \n",
              "4  2.6157166666666667       1  "
            ],
            "text/html": [
              "\n",
              "  <div id=\"df-de096ac6-35c9-4a5c-97c3-0bd7616d78eb\">\n",
              "    <div class=\"colab-df-container\">\n",
              "      <div>\n",
              "<style scoped>\n",
              "    .dataframe tbody tr th:only-of-type {\n",
              "        vertical-align: middle;\n",
              "    }\n",
              "\n",
              "    .dataframe tbody tr th {\n",
              "        vertical-align: top;\n",
              "    }\n",
              "\n",
              "    .dataframe thead th {\n",
              "        text-align: right;\n",
              "    }\n",
              "</style>\n",
              "<table border=\"1\" class=\"dataframe\">\n",
              "  <thead>\n",
              "    <tr style=\"text-align: right;\">\n",
              "      <th></th>\n",
              "      <th>id</th>\n",
              "      <th>playlist_id</th>\n",
              "      <th>title</th>\n",
              "      <th>main_artist</th>\n",
              "      <th>acousticness</th>\n",
              "      <th>danceability</th>\n",
              "      <th>energy</th>\n",
              "      <th>duration_ms</th>\n",
              "      <th>instrumentalness</th>\n",
              "      <th>key</th>\n",
              "      <th>liveness</th>\n",
              "      <th>loudness</th>\n",
              "      <th>mode</th>\n",
              "      <th>speechiness</th>\n",
              "      <th>tempo</th>\n",
              "      <th>time_signature</th>\n",
              "      <th>valence</th>\n",
              "      <th>duration_min</th>\n",
              "      <th>labels</th>\n",
              "    </tr>\n",
              "  </thead>\n",
              "  <tbody>\n",
              "    <tr>\n",
              "      <th>0</th>\n",
              "      <td>1Qrg8KqiBpW07V7PNxwwwL</td>\n",
              "      <td>37i9dQZF1DXcBWIGoYBM5M</td>\n",
              "      <td>Kill Bill</td>\n",
              "      <td>SZA</td>\n",
              "      <td>0.0521</td>\n",
              "      <td>0.644</td>\n",
              "      <td>0.735</td>\n",
              "      <td>153947.0</td>\n",
              "      <td>0.144000</td>\n",
              "      <td>8.0</td>\n",
              "      <td>0.1610</td>\n",
              "      <td>-5.747</td>\n",
              "      <td>1.0</td>\n",
              "      <td>0.0391</td>\n",
              "      <td>88.980</td>\n",
              "      <td>4.0</td>\n",
              "      <td>0.418</td>\n",
              "      <td>2.565783333333333</td>\n",
              "      <td>1</td>\n",
              "    </tr>\n",
              "    <tr>\n",
              "      <th>1</th>\n",
              "      <td>0V3wPSX9ygBnCm8psDIegu</td>\n",
              "      <td>37i9dQZF1DXcBWIGoYBM5M</td>\n",
              "      <td>Anti-Hero</td>\n",
              "      <td>Taylor Swift</td>\n",
              "      <td>0.1300</td>\n",
              "      <td>0.637</td>\n",
              "      <td>0.643</td>\n",
              "      <td>200690.0</td>\n",
              "      <td>0.000002</td>\n",
              "      <td>4.0</td>\n",
              "      <td>0.1420</td>\n",
              "      <td>-6.571</td>\n",
              "      <td>1.0</td>\n",
              "      <td>0.0519</td>\n",
              "      <td>97.008</td>\n",
              "      <td>4.0</td>\n",
              "      <td>0.533</td>\n",
              "      <td>3.3448333333333333</td>\n",
              "      <td>1</td>\n",
              "    </tr>\n",
              "    <tr>\n",
              "      <th>2</th>\n",
              "      <td>0WtM2NBVQNNJLh6scP13H8</td>\n",
              "      <td>37i9dQZF1DXcBWIGoYBM5M</td>\n",
              "      <td>Calm Down (with Selena Gomez)</td>\n",
              "      <td>Rema</td>\n",
              "      <td>0.3820</td>\n",
              "      <td>0.801</td>\n",
              "      <td>0.806</td>\n",
              "      <td>239318.0</td>\n",
              "      <td>0.000669</td>\n",
              "      <td>11.0</td>\n",
              "      <td>0.1140</td>\n",
              "      <td>-5.206</td>\n",
              "      <td>1.0</td>\n",
              "      <td>0.0381</td>\n",
              "      <td>106.999</td>\n",
              "      <td>4.0</td>\n",
              "      <td>0.802</td>\n",
              "      <td>3.9886333333333335</td>\n",
              "      <td>1</td>\n",
              "    </tr>\n",
              "    <tr>\n",
              "      <th>3</th>\n",
              "      <td>2dHHgzDwk4BJdRwy9uXhTO</td>\n",
              "      <td>37i9dQZF1DXcBWIGoYBM5M</td>\n",
              "      <td>Creepin' (with The Weeknd &amp; 21 Savage)</td>\n",
              "      <td>Metro Boomin</td>\n",
              "      <td>0.4170</td>\n",
              "      <td>0.715</td>\n",
              "      <td>0.620</td>\n",
              "      <td>221520.0</td>\n",
              "      <td>0.000000</td>\n",
              "      <td>1.0</td>\n",
              "      <td>0.0822</td>\n",
              "      <td>-6.005</td>\n",
              "      <td>0.0</td>\n",
              "      <td>0.0484</td>\n",
              "      <td>97.950</td>\n",
              "      <td>4.0</td>\n",
              "      <td>0.172</td>\n",
              "      <td>3.692</td>\n",
              "      <td>2</td>\n",
              "    </tr>\n",
              "    <tr>\n",
              "      <th>4</th>\n",
              "      <td>3nqQXoyQOWXiESFLlDF1hG</td>\n",
              "      <td>37i9dQZF1DXcBWIGoYBM5M</td>\n",
              "      <td>Unholy (feat. Kim Petras)</td>\n",
              "      <td>Sam Smith</td>\n",
              "      <td>0.0130</td>\n",
              "      <td>0.714</td>\n",
              "      <td>0.472</td>\n",
              "      <td>156943.0</td>\n",
              "      <td>0.000005</td>\n",
              "      <td>2.0</td>\n",
              "      <td>0.2660</td>\n",
              "      <td>-7.375</td>\n",
              "      <td>1.0</td>\n",
              "      <td>0.0864</td>\n",
              "      <td>131.121</td>\n",
              "      <td>4.0</td>\n",
              "      <td>0.238</td>\n",
              "      <td>2.6157166666666667</td>\n",
              "      <td>1</td>\n",
              "    </tr>\n",
              "  </tbody>\n",
              "</table>\n",
              "</div>\n",
              "      <button class=\"colab-df-convert\" onclick=\"convertToInteractive('df-de096ac6-35c9-4a5c-97c3-0bd7616d78eb')\"\n",
              "              title=\"Convert this dataframe to an interactive table.\"\n",
              "              style=\"display:none;\">\n",
              "        \n",
              "  <svg xmlns=\"http://www.w3.org/2000/svg\" height=\"24px\"viewBox=\"0 0 24 24\"\n",
              "       width=\"24px\">\n",
              "    <path d=\"M0 0h24v24H0V0z\" fill=\"none\"/>\n",
              "    <path d=\"M18.56 5.44l.94 2.06.94-2.06 2.06-.94-2.06-.94-.94-2.06-.94 2.06-2.06.94zm-11 1L8.5 8.5l.94-2.06 2.06-.94-2.06-.94L8.5 2.5l-.94 2.06-2.06.94zm10 10l.94 2.06.94-2.06 2.06-.94-2.06-.94-.94-2.06-.94 2.06-2.06.94z\"/><path d=\"M17.41 7.96l-1.37-1.37c-.4-.4-.92-.59-1.43-.59-.52 0-1.04.2-1.43.59L10.3 9.45l-7.72 7.72c-.78.78-.78 2.05 0 2.83L4 21.41c.39.39.9.59 1.41.59.51 0 1.02-.2 1.41-.59l7.78-7.78 2.81-2.81c.8-.78.8-2.07 0-2.86zM5.41 20L4 18.59l7.72-7.72 1.47 1.35L5.41 20z\"/>\n",
              "  </svg>\n",
              "      </button>\n",
              "      \n",
              "  <style>\n",
              "    .colab-df-container {\n",
              "      display:flex;\n",
              "      flex-wrap:wrap;\n",
              "      gap: 12px;\n",
              "    }\n",
              "\n",
              "    .colab-df-convert {\n",
              "      background-color: #E8F0FE;\n",
              "      border: none;\n",
              "      border-radius: 50%;\n",
              "      cursor: pointer;\n",
              "      display: none;\n",
              "      fill: #1967D2;\n",
              "      height: 32px;\n",
              "      padding: 0 0 0 0;\n",
              "      width: 32px;\n",
              "    }\n",
              "\n",
              "    .colab-df-convert:hover {\n",
              "      background-color: #E2EBFA;\n",
              "      box-shadow: 0px 1px 2px rgba(60, 64, 67, 0.3), 0px 1px 3px 1px rgba(60, 64, 67, 0.15);\n",
              "      fill: #174EA6;\n",
              "    }\n",
              "\n",
              "    [theme=dark] .colab-df-convert {\n",
              "      background-color: #3B4455;\n",
              "      fill: #D2E3FC;\n",
              "    }\n",
              "\n",
              "    [theme=dark] .colab-df-convert:hover {\n",
              "      background-color: #434B5C;\n",
              "      box-shadow: 0px 1px 3px 1px rgba(0, 0, 0, 0.15);\n",
              "      filter: drop-shadow(0px 1px 2px rgba(0, 0, 0, 0.3));\n",
              "      fill: #FFFFFF;\n",
              "    }\n",
              "  </style>\n",
              "\n",
              "      <script>\n",
              "        const buttonEl =\n",
              "          document.querySelector('#df-de096ac6-35c9-4a5c-97c3-0bd7616d78eb button.colab-df-convert');\n",
              "        buttonEl.style.display =\n",
              "          google.colab.kernel.accessAllowed ? 'block' : 'none';\n",
              "\n",
              "        async function convertToInteractive(key) {\n",
              "          const element = document.querySelector('#df-de096ac6-35c9-4a5c-97c3-0bd7616d78eb');\n",
              "          const dataTable =\n",
              "            await google.colab.kernel.invokeFunction('convertToInteractive',\n",
              "                                                     [key], {});\n",
              "          if (!dataTable) return;\n",
              "\n",
              "          const docLinkHtml = 'Like what you see? Visit the ' +\n",
              "            '<a target=\"_blank\" href=https://colab.research.google.com/notebooks/data_table.ipynb>data table notebook</a>'\n",
              "            + ' to learn more about interactive tables.';\n",
              "          element.innerHTML = '';\n",
              "          dataTable['output_type'] = 'display_data';\n",
              "          await google.colab.output.renderOutput(dataTable, element);\n",
              "          const docLink = document.createElement('div');\n",
              "          docLink.innerHTML = docLinkHtml;\n",
              "          element.appendChild(docLink);\n",
              "        }\n",
              "      </script>\n",
              "    </div>\n",
              "  </div>\n",
              "  "
            ]
          },
          "metadata": {},
          "execution_count": 139
        }
      ]
    },
    {
      "cell_type": "code",
      "source": [
        "all_songs['labels'].value_counts()"
      ],
      "metadata": {
        "id": "BFCpR7nJVtrU",
        "colab": {
          "base_uri": "https://localhost:8080/"
        },
        "outputId": "87efb8ab-b0e4-4e81-9f8f-1982882b0032"
      },
      "execution_count": null,
      "outputs": [
        {
          "output_type": "execute_result",
          "data": {
            "text/plain": [
              "1    6685\n",
              "2    4950\n",
              "0    4747\n",
              "3    2180\n",
              "Name: labels, dtype: int64"
            ]
          },
          "metadata": {},
          "execution_count": 140
        }
      ]
    },
    {
      "cell_type": "code",
      "source": [
        "df = data.copy()\n",
        "pred_df = kmean.predict(df[features])\n",
        "\n",
        "df['songs group'] = pred_df\n",
        "\n",
        "df = df.reset_index()\n",
        "df = df.drop(columns=['index'])\n",
        "df.head()"
      ],
      "metadata": {
        "id": "crSBYi9RV7P7",
        "colab": {
          "base_uri": "https://localhost:8080/",
          "height": 357
        },
        "outputId": "3db8bdbc-4672-4a5f-bf66-ad1636398608"
      },
      "execution_count": null,
      "outputs": [
        {
          "output_type": "execute_result",
          "data": {
            "text/plain": [
              "                       id             playlist_id              title  \\\n",
              "0  1CqOEa4NIRBaWR6sNHTDTo  51WDRItSGTxLXWLLzyW08g  Как тебя покорить   \n",
              "1  4QGV75zJdM68DDbeXvlXOz  51WDRItSGTxLXWLLzyW08g        Первый снег   \n",
              "2  0E5kJzyQhf4m02ooeO9tTy  51WDRItSGTxLXWLLzyW08g             Vchera   \n",
              "3  3Y7yePf9MtKCJbzeuqBJmN  51WDRItSGTxLXWLLzyW08g              шесть   \n",
              "4  4zafGs520iPYGMd80DDoY6  51WDRItSGTxLXWLLzyW08g     Herz aus Stein   \n",
              "\n",
              "      main_artist  acousticness  danceability  energy  duration_ms  \\\n",
              "0       Перемотка       0.00677         0.514   0.966       218764   \n",
              "1       Перемотка       0.01180         0.548   0.862       179442   \n",
              "2           AL-90       0.02980         0.650   0.609       323000   \n",
              "3  тима ищет свет       0.08410         0.663   0.841       190146   \n",
              "4         Arctic8       0.30100         0.637   0.787       204000   \n",
              "\n",
              "   instrumentalness  key  liveness  loudness  mode  speechiness    tempo  \\\n",
              "0          0.042200    2    0.3820    -4.854     1       0.0502   91.025   \n",
              "1          0.893000   11    0.2080    -6.984     1       0.0333  100.815   \n",
              "2          0.875000    8    0.1060    -9.038     1       0.0663  119.993   \n",
              "3          0.000184    5    0.1010    -6.180     1       0.1440  166.065   \n",
              "4          0.093200    6    0.0794   -10.296     0       0.0342   88.981   \n",
              "\n",
              "   time_signature  valence  duration_min  songs group  \n",
              "0               4    0.802      3.646067            0  \n",
              "1               4    0.609      2.990700            0  \n",
              "2               4    0.180      5.383333            0  \n",
              "3               4    0.762      3.169100            0  \n",
              "4               4    0.583      3.400000            0  "
            ],
            "text/html": [
              "\n",
              "  <div id=\"df-a4cdcd08-6584-44ea-bdfd-f82b3e41c21b\">\n",
              "    <div class=\"colab-df-container\">\n",
              "      <div>\n",
              "<style scoped>\n",
              "    .dataframe tbody tr th:only-of-type {\n",
              "        vertical-align: middle;\n",
              "    }\n",
              "\n",
              "    .dataframe tbody tr th {\n",
              "        vertical-align: top;\n",
              "    }\n",
              "\n",
              "    .dataframe thead th {\n",
              "        text-align: right;\n",
              "    }\n",
              "</style>\n",
              "<table border=\"1\" class=\"dataframe\">\n",
              "  <thead>\n",
              "    <tr style=\"text-align: right;\">\n",
              "      <th></th>\n",
              "      <th>id</th>\n",
              "      <th>playlist_id</th>\n",
              "      <th>title</th>\n",
              "      <th>main_artist</th>\n",
              "      <th>acousticness</th>\n",
              "      <th>danceability</th>\n",
              "      <th>energy</th>\n",
              "      <th>duration_ms</th>\n",
              "      <th>instrumentalness</th>\n",
              "      <th>key</th>\n",
              "      <th>liveness</th>\n",
              "      <th>loudness</th>\n",
              "      <th>mode</th>\n",
              "      <th>speechiness</th>\n",
              "      <th>tempo</th>\n",
              "      <th>time_signature</th>\n",
              "      <th>valence</th>\n",
              "      <th>duration_min</th>\n",
              "      <th>songs group</th>\n",
              "    </tr>\n",
              "  </thead>\n",
              "  <tbody>\n",
              "    <tr>\n",
              "      <th>0</th>\n",
              "      <td>1CqOEa4NIRBaWR6sNHTDTo</td>\n",
              "      <td>51WDRItSGTxLXWLLzyW08g</td>\n",
              "      <td>Как тебя покорить</td>\n",
              "      <td>Перемотка</td>\n",
              "      <td>0.00677</td>\n",
              "      <td>0.514</td>\n",
              "      <td>0.966</td>\n",
              "      <td>218764</td>\n",
              "      <td>0.042200</td>\n",
              "      <td>2</td>\n",
              "      <td>0.3820</td>\n",
              "      <td>-4.854</td>\n",
              "      <td>1</td>\n",
              "      <td>0.0502</td>\n",
              "      <td>91.025</td>\n",
              "      <td>4</td>\n",
              "      <td>0.802</td>\n",
              "      <td>3.646067</td>\n",
              "      <td>0</td>\n",
              "    </tr>\n",
              "    <tr>\n",
              "      <th>1</th>\n",
              "      <td>4QGV75zJdM68DDbeXvlXOz</td>\n",
              "      <td>51WDRItSGTxLXWLLzyW08g</td>\n",
              "      <td>Первый снег</td>\n",
              "      <td>Перемотка</td>\n",
              "      <td>0.01180</td>\n",
              "      <td>0.548</td>\n",
              "      <td>0.862</td>\n",
              "      <td>179442</td>\n",
              "      <td>0.893000</td>\n",
              "      <td>11</td>\n",
              "      <td>0.2080</td>\n",
              "      <td>-6.984</td>\n",
              "      <td>1</td>\n",
              "      <td>0.0333</td>\n",
              "      <td>100.815</td>\n",
              "      <td>4</td>\n",
              "      <td>0.609</td>\n",
              "      <td>2.990700</td>\n",
              "      <td>0</td>\n",
              "    </tr>\n",
              "    <tr>\n",
              "      <th>2</th>\n",
              "      <td>0E5kJzyQhf4m02ooeO9tTy</td>\n",
              "      <td>51WDRItSGTxLXWLLzyW08g</td>\n",
              "      <td>Vchera</td>\n",
              "      <td>AL-90</td>\n",
              "      <td>0.02980</td>\n",
              "      <td>0.650</td>\n",
              "      <td>0.609</td>\n",
              "      <td>323000</td>\n",
              "      <td>0.875000</td>\n",
              "      <td>8</td>\n",
              "      <td>0.1060</td>\n",
              "      <td>-9.038</td>\n",
              "      <td>1</td>\n",
              "      <td>0.0663</td>\n",
              "      <td>119.993</td>\n",
              "      <td>4</td>\n",
              "      <td>0.180</td>\n",
              "      <td>5.383333</td>\n",
              "      <td>0</td>\n",
              "    </tr>\n",
              "    <tr>\n",
              "      <th>3</th>\n",
              "      <td>3Y7yePf9MtKCJbzeuqBJmN</td>\n",
              "      <td>51WDRItSGTxLXWLLzyW08g</td>\n",
              "      <td>шесть</td>\n",
              "      <td>тима ищет свет</td>\n",
              "      <td>0.08410</td>\n",
              "      <td>0.663</td>\n",
              "      <td>0.841</td>\n",
              "      <td>190146</td>\n",
              "      <td>0.000184</td>\n",
              "      <td>5</td>\n",
              "      <td>0.1010</td>\n",
              "      <td>-6.180</td>\n",
              "      <td>1</td>\n",
              "      <td>0.1440</td>\n",
              "      <td>166.065</td>\n",
              "      <td>4</td>\n",
              "      <td>0.762</td>\n",
              "      <td>3.169100</td>\n",
              "      <td>0</td>\n",
              "    </tr>\n",
              "    <tr>\n",
              "      <th>4</th>\n",
              "      <td>4zafGs520iPYGMd80DDoY6</td>\n",
              "      <td>51WDRItSGTxLXWLLzyW08g</td>\n",
              "      <td>Herz aus Stein</td>\n",
              "      <td>Arctic8</td>\n",
              "      <td>0.30100</td>\n",
              "      <td>0.637</td>\n",
              "      <td>0.787</td>\n",
              "      <td>204000</td>\n",
              "      <td>0.093200</td>\n",
              "      <td>6</td>\n",
              "      <td>0.0794</td>\n",
              "      <td>-10.296</td>\n",
              "      <td>0</td>\n",
              "      <td>0.0342</td>\n",
              "      <td>88.981</td>\n",
              "      <td>4</td>\n",
              "      <td>0.583</td>\n",
              "      <td>3.400000</td>\n",
              "      <td>0</td>\n",
              "    </tr>\n",
              "  </tbody>\n",
              "</table>\n",
              "</div>\n",
              "      <button class=\"colab-df-convert\" onclick=\"convertToInteractive('df-a4cdcd08-6584-44ea-bdfd-f82b3e41c21b')\"\n",
              "              title=\"Convert this dataframe to an interactive table.\"\n",
              "              style=\"display:none;\">\n",
              "        \n",
              "  <svg xmlns=\"http://www.w3.org/2000/svg\" height=\"24px\"viewBox=\"0 0 24 24\"\n",
              "       width=\"24px\">\n",
              "    <path d=\"M0 0h24v24H0V0z\" fill=\"none\"/>\n",
              "    <path d=\"M18.56 5.44l.94 2.06.94-2.06 2.06-.94-2.06-.94-.94-2.06-.94 2.06-2.06.94zm-11 1L8.5 8.5l.94-2.06 2.06-.94-2.06-.94L8.5 2.5l-.94 2.06-2.06.94zm10 10l.94 2.06.94-2.06 2.06-.94-2.06-.94-.94-2.06-.94 2.06-2.06.94z\"/><path d=\"M17.41 7.96l-1.37-1.37c-.4-.4-.92-.59-1.43-.59-.52 0-1.04.2-1.43.59L10.3 9.45l-7.72 7.72c-.78.78-.78 2.05 0 2.83L4 21.41c.39.39.9.59 1.41.59.51 0 1.02-.2 1.41-.59l7.78-7.78 2.81-2.81c.8-.78.8-2.07 0-2.86zM5.41 20L4 18.59l7.72-7.72 1.47 1.35L5.41 20z\"/>\n",
              "  </svg>\n",
              "      </button>\n",
              "      \n",
              "  <style>\n",
              "    .colab-df-container {\n",
              "      display:flex;\n",
              "      flex-wrap:wrap;\n",
              "      gap: 12px;\n",
              "    }\n",
              "\n",
              "    .colab-df-convert {\n",
              "      background-color: #E8F0FE;\n",
              "      border: none;\n",
              "      border-radius: 50%;\n",
              "      cursor: pointer;\n",
              "      display: none;\n",
              "      fill: #1967D2;\n",
              "      height: 32px;\n",
              "      padding: 0 0 0 0;\n",
              "      width: 32px;\n",
              "    }\n",
              "\n",
              "    .colab-df-convert:hover {\n",
              "      background-color: #E2EBFA;\n",
              "      box-shadow: 0px 1px 2px rgba(60, 64, 67, 0.3), 0px 1px 3px 1px rgba(60, 64, 67, 0.15);\n",
              "      fill: #174EA6;\n",
              "    }\n",
              "\n",
              "    [theme=dark] .colab-df-convert {\n",
              "      background-color: #3B4455;\n",
              "      fill: #D2E3FC;\n",
              "    }\n",
              "\n",
              "    [theme=dark] .colab-df-convert:hover {\n",
              "      background-color: #434B5C;\n",
              "      box-shadow: 0px 1px 3px 1px rgba(0, 0, 0, 0.15);\n",
              "      filter: drop-shadow(0px 1px 2px rgba(0, 0, 0, 0.3));\n",
              "      fill: #FFFFFF;\n",
              "    }\n",
              "  </style>\n",
              "\n",
              "      <script>\n",
              "        const buttonEl =\n",
              "          document.querySelector('#df-a4cdcd08-6584-44ea-bdfd-f82b3e41c21b button.colab-df-convert');\n",
              "        buttonEl.style.display =\n",
              "          google.colab.kernel.accessAllowed ? 'block' : 'none';\n",
              "\n",
              "        async function convertToInteractive(key) {\n",
              "          const element = document.querySelector('#df-a4cdcd08-6584-44ea-bdfd-f82b3e41c21b');\n",
              "          const dataTable =\n",
              "            await google.colab.kernel.invokeFunction('convertToInteractive',\n",
              "                                                     [key], {});\n",
              "          if (!dataTable) return;\n",
              "\n",
              "          const docLinkHtml = 'Like what you see? Visit the ' +\n",
              "            '<a target=\"_blank\" href=https://colab.research.google.com/notebooks/data_table.ipynb>data table notebook</a>'\n",
              "            + ' to learn more about interactive tables.';\n",
              "          element.innerHTML = '';\n",
              "          dataTable['output_type'] = 'display_data';\n",
              "          await google.colab.output.renderOutput(dataTable, element);\n",
              "          const docLink = document.createElement('div');\n",
              "          docLink.innerHTML = docLinkHtml;\n",
              "          element.appendChild(docLink);\n",
              "        }\n",
              "      </script>\n",
              "    </div>\n",
              "  </div>\n",
              "  "
            ]
          },
          "metadata": {},
          "execution_count": 141
        }
      ]
    },
    {
      "cell_type": "markdown",
      "source": [
        "## PCA "
      ],
      "metadata": {
        "id": "jFWgCI0LXBy3"
      }
    },
    {
      "cell_type": "code",
      "source": [
        "pca = PCA(n_components=3, random_state=42)\n",
        "df_pca_all_songs = pd.DataFrame(data=pca.fit_transform(all_songs_features_scaled), columns=['PC1', 'PC2', 'PC3'])"
      ],
      "metadata": {
        "id": "6BhEjkbAXGMp"
      },
      "execution_count": null,
      "outputs": []
    },
    {
      "cell_type": "code",
      "source": [
        "pca.components_\n",
        "print('Explained variation per principal component: {}'.format(pca.explained_variance_ratio_))"
      ],
      "metadata": {
        "id": "sQufAFD8XTns",
        "colab": {
          "base_uri": "https://localhost:8080/"
        },
        "outputId": "cbf3c866-061c-4c68-baae-409e2aafa9e2"
      },
      "execution_count": null,
      "outputs": [
        {
          "output_type": "stream",
          "name": "stdout",
          "text": [
            "Explained variation per principal component: [0.28979102 0.15193633 0.1180786 ]\n"
          ]
        }
      ]
    },
    {
      "cell_type": "code",
      "source": [
        "plt.matshow(pca.components_, cmap='viridis')\n",
        "plt.yticks([0, 1, 2], [\"First component\", \"Second component\", \"Third component\"])\n",
        "plt.colorbar()\n",
        "plt.xticks(range(len(all_songs[features].columns)),all_songs[features], rotation=60, ha='left')\n",
        "plt.xlabel(\"Feature\")\n",
        "plt.ylabel(\"Principal components\")"
      ],
      "metadata": {
        "id": "0gzSws8sXeo5",
        "colab": {
          "base_uri": "https://localhost:8080/",
          "height": 366
        },
        "outputId": "36e0164d-0ad9-4505-88f5-7498399520b0"
      },
      "execution_count": null,
      "outputs": [
        {
          "output_type": "execute_result",
          "data": {
            "text/plain": [
              "Text(0, 0.5, 'Principal components')"
            ]
          },
          "metadata": {},
          "execution_count": 144
        },
        {
          "output_type": "display_data",
          "data": {
            "text/plain": [
              "<Figure size 1152x345.6 with 2 Axes>"
            ],
            "image/png": "[encoded data removed]"
          },
          "metadata": {}
        }
      ]
    },
    {
      "cell_type": "code",
      "source": [
        "df_pca_all_songs = df_pca_all_songs.merge(all_songs, left_index=True, right_index=True)\n",
        "df_pca_all_songs = df_pca_all_songs[['PC1', 'PC2', 'PC3', 'title', 'main_artist']]\n",
        "\n",
        "df_pca_all_songs.shape"
      ],
      "metadata": {
        "id": "KfpqAVdsXjeO",
        "colab": {
          "base_uri": "https://localhost:8080/"
        },
        "outputId": "addab641-ceb2-49c7-9cca-9ef5ada482cc"
      },
      "execution_count": null,
      "outputs": [
        {
          "output_type": "execute_result",
          "data": {
            "text/plain": [
              "(18333, 5)"
            ]
          },
          "metadata": {},
          "execution_count": 145
        }
      ]
    },
    {
      "cell_type": "code",
      "source": [
        "df_scaled = scaler.transform(df[features])\n",
        "\n",
        "# use trained PCA\n",
        "df_pca = pd.DataFrame(data=pca.transform(df_scaled), columns=['PC1','PC2','PC3'])"
      ],
      "metadata": {
        "id": "1CTwkxKWXqty"
      },
      "execution_count": null,
      "outputs": []
    },
    {
      "cell_type": "code",
      "source": [
        "df_pca = df_pca.merge(data, left_index=True, right_index=True)\n",
        "df_pca = df_pca[['PC1', 'PC2', 'PC3', 'title', 'main_artist']]\n",
        "df_pca.head()"
      ],
      "metadata": {
        "id": "e9I0TC5oXzrY",
        "colab": {
          "base_uri": "https://localhost:8080/",
          "height": 206
        },
        "outputId": "5a3672a1-e819-4136-c9d2-8a4226ded905"
      },
      "execution_count": null,
      "outputs": [
        {
          "output_type": "execute_result",
          "data": {
            "text/plain": [
              "        PC1       PC2       PC3              title     main_artist\n",
              "0 -1.838074 -0.156517 -1.228233  Как тебя покорить       Перемотка\n",
              "1 -0.313635  0.552018  0.832042        Первый снег       Перемотка\n",
              "2  0.872866  0.717459  0.293390             Vchera           AL-90\n",
              "3 -1.597198 -0.682683 -0.689558              шесть  тима ищет свет\n",
              "4  0.056419 -1.175147  1.136139     Herz aus Stein         Arctic8"
            ],
            "text/html": [
              "\n",
              "  <div id=\"df-37e2e7eb-d414-4ed8-9f8c-979b467b2ee9\">\n",
              "    <div class=\"colab-df-container\">\n",
              "      <div>\n",
              "<style scoped>\n",
              "    .dataframe tbody tr th:only-of-type {\n",
              "        vertical-align: middle;\n",
              "    }\n",
              "\n",
              "    .dataframe tbody tr th {\n",
              "        vertical-align: top;\n",
              "    }\n",
              "\n",
              "    .dataframe thead th {\n",
              "        text-align: right;\n",
              "    }\n",
              "</style>\n",
              "<table border=\"1\" class=\"dataframe\">\n",
              "  <thead>\n",
              "    <tr style=\"text-align: right;\">\n",
              "      <th></th>\n",
              "      <th>PC1</th>\n",
              "      <th>PC2</th>\n",
              "      <th>PC3</th>\n",
              "      <th>title</th>\n",
              "      <th>main_artist</th>\n",
              "    </tr>\n",
              "  </thead>\n",
              "  <tbody>\n",
              "    <tr>\n",
              "      <th>0</th>\n",
              "      <td>-1.838074</td>\n",
              "      <td>-0.156517</td>\n",
              "      <td>-1.228233</td>\n",
              "      <td>Как тебя покорить</td>\n",
              "      <td>Перемотка</td>\n",
              "    </tr>\n",
              "    <tr>\n",
              "      <th>1</th>\n",
              "      <td>-0.313635</td>\n",
              "      <td>0.552018</td>\n",
              "      <td>0.832042</td>\n",
              "      <td>Первый снег</td>\n",
              "      <td>Перемотка</td>\n",
              "    </tr>\n",
              "    <tr>\n",
              "      <th>2</th>\n",
              "      <td>0.872866</td>\n",
              "      <td>0.717459</td>\n",
              "      <td>0.293390</td>\n",
              "      <td>Vchera</td>\n",
              "      <td>AL-90</td>\n",
              "    </tr>\n",
              "    <tr>\n",
              "      <th>3</th>\n",
              "      <td>-1.597198</td>\n",
              "      <td>-0.682683</td>\n",
              "      <td>-0.689558</td>\n",
              "      <td>шесть</td>\n",
              "      <td>тима ищет свет</td>\n",
              "    </tr>\n",
              "    <tr>\n",
              "      <th>4</th>\n",
              "      <td>0.056419</td>\n",
              "      <td>-1.175147</td>\n",
              "      <td>1.136139</td>\n",
              "      <td>Herz aus Stein</td>\n",
              "      <td>Arctic8</td>\n",
              "    </tr>\n",
              "  </tbody>\n",
              "</table>\n",
              "</div>\n",
              "      <button class=\"colab-df-convert\" onclick=\"convertToInteractive('df-37e2e7eb-d414-4ed8-9f8c-979b467b2ee9')\"\n",
              "              title=\"Convert this dataframe to an interactive table.\"\n",
              "              style=\"display:none;\">\n",
              "        \n",
              "  <svg xmlns=\"http://www.w3.org/2000/svg\" height=\"24px\"viewBox=\"0 0 24 24\"\n",
              "       width=\"24px\">\n",
              "    <path d=\"M0 0h24v24H0V0z\" fill=\"none\"/>\n",
              "    <path d=\"M18.56 5.44l.94 2.06.94-2.06 2.06-.94-2.06-.94-.94-2.06-.94 2.06-2.06.94zm-11 1L8.5 8.5l.94-2.06 2.06-.94-2.06-.94L8.5 2.5l-.94 2.06-2.06.94zm10 10l.94 2.06.94-2.06 2.06-.94-2.06-.94-.94-2.06-.94 2.06-2.06.94z\"/><path d=\"M17.41 7.96l-1.37-1.37c-.4-.4-.92-.59-1.43-.59-.52 0-1.04.2-1.43.59L10.3 9.45l-7.72 7.72c-.78.78-.78 2.05 0 2.83L4 21.41c.39.39.9.59 1.41.59.51 0 1.02-.2 1.41-.59l7.78-7.78 2.81-2.81c.8-.78.8-2.07 0-2.86zM5.41 20L4 18.59l7.72-7.72 1.47 1.35L5.41 20z\"/>\n",
              "  </svg>\n",
              "      </button>\n",
              "      \n",
              "  <style>\n",
              "    .colab-df-container {\n",
              "      display:flex;\n",
              "      flex-wrap:wrap;\n",
              "      gap: 12px;\n",
              "    }\n",
              "\n",
              "    .colab-df-convert {\n",
              "      background-color: #E8F0FE;\n",
              "      border: none;\n",
              "      border-radius: 50%;\n",
              "      cursor: pointer;\n",
              "      display: none;\n",
              "      fill: #1967D2;\n",
              "      height: 32px;\n",
              "      padding: 0 0 0 0;\n",
              "      width: 32px;\n",
              "    }\n",
              "\n",
              "    .colab-df-convert:hover {\n",
              "      background-color: #E2EBFA;\n",
              "      box-shadow: 0px 1px 2px rgba(60, 64, 67, 0.3), 0px 1px 3px 1px rgba(60, 64, 67, 0.15);\n",
              "      fill: #174EA6;\n",
              "    }\n",
              "\n",
              "    [theme=dark] .colab-df-convert {\n",
              "      background-color: #3B4455;\n",
              "      fill: #D2E3FC;\n",
              "    }\n",
              "\n",
              "    [theme=dark] .colab-df-convert:hover {\n",
              "      background-color: #434B5C;\n",
              "      box-shadow: 0px 1px 3px 1px rgba(0, 0, 0, 0.15);\n",
              "      filter: drop-shadow(0px 1px 2px rgba(0, 0, 0, 0.3));\n",
              "      fill: #FFFFFF;\n",
              "    }\n",
              "  </style>\n",
              "\n",
              "      <script>\n",
              "        const buttonEl =\n",
              "          document.querySelector('#df-37e2e7eb-d414-4ed8-9f8c-979b467b2ee9 button.colab-df-convert');\n",
              "        buttonEl.style.display =\n",
              "          google.colab.kernel.accessAllowed ? 'block' : 'none';\n",
              "\n",
              "        async function convertToInteractive(key) {\n",
              "          const element = document.querySelector('#df-37e2e7eb-d414-4ed8-9f8c-979b467b2ee9');\n",
              "          const dataTable =\n",
              "            await google.colab.kernel.invokeFunction('convertToInteractive',\n",
              "                                                     [key], {});\n",
              "          if (!dataTable) return;\n",
              "\n",
              "          const docLinkHtml = 'Like what you see? Visit the ' +\n",
              "            '<a target=\"_blank\" href=https://colab.research.google.com/notebooks/data_table.ipynb>data table notebook</a>'\n",
              "            + ' to learn more about interactive tables.';\n",
              "          element.innerHTML = '';\n",
              "          dataTable['output_type'] = 'display_data';\n",
              "          await google.colab.output.renderOutput(dataTable, element);\n",
              "          const docLink = document.createElement('div');\n",
              "          docLink.innerHTML = docLinkHtml;\n",
              "          element.appendChild(docLink);\n",
              "        }\n",
              "      </script>\n",
              "    </div>\n",
              "  </div>\n",
              "  "
            ]
          },
          "metadata": {},
          "execution_count": 147
        }
      ]
    },
    {
      "cell_type": "markdown",
      "source": [
        "### Получение рекомендаций от PCA и ближайших соседей"
      ],
      "metadata": {
        "id": "F_BEDpywX_KU"
      }
    },
    {
      "cell_type": "code",
      "source": [
        "columns = ['PC1', 'PC2', 'PC3']\n",
        "\n",
        "kdB = KDTree(df_pca_all_songs[columns].values)#all songs\n",
        "neighbours = kdB.query(df_pca[columns].values, k=1)[-1]\n",
        "\n",
        "print(neighbours.shape)"
      ],
      "metadata": {
        "id": "rO7KbhdpYLa8",
        "colab": {
          "base_uri": "https://localhost:8080/"
        },
        "outputId": "a266e1d0-26a1-4524-87e7-c006ca386ab6"
      },
      "execution_count": null,
      "outputs": [
        {
          "output_type": "stream",
          "name": "stdout",
          "text": [
            "(295,)\n"
          ]
        }
      ]
    },
    {
      "cell_type": "code",
      "source": [
        "from IPython.display import HTML\n",
        "import plotly.graph_objects as go\n",
        "\n",
        "recomendations = all_songs[all_songs.index.isin(neighbours[:number_of_recomendations])]\n",
        "\n",
        "url_of_rec = []\n",
        "\n",
        "for rec in recomendations['id']:\n",
        "  track = sp.track(track_id=rec)\n",
        "  url_of_rec.append(track['external_urls']['spotify'])\n",
        "\n",
        "recomendations_output = recomendations[['title', 'main_artist']]\n",
        "recomendations_output.columns = ['Song Recommendation', 'Artist']\n",
        "\n",
        "\n",
        "def create_link(url:str) -> str:\n",
        "    return f'''<a href=\"{url}\">🔗</a>'''\n",
        "\n",
        "recomendations_output['Link'] = [create_link(url) for url in url_of_rec]\n",
        "\n",
        "fig = go.Figure(\n",
        "    data=[\n",
        "        go.Table(\n",
        "            columnwidth = [1,1,0.2],\n",
        "            header=dict(\n",
        "                values=[f\"<b>{i}</b>\" for i in recomendations_output.columns],\n",
        "                fill_color='pink'\n",
        "                ),\n",
        "            cells=dict(\n",
        "                values=recomendations_output[['Song Recommendation', 'Artist', 'Link']].transpose(),\n",
        "                align = 'left'\n",
        "                )\n",
        "            )\n",
        "        ]\n",
        "        \n",
        "    )\n",
        "\n",
        "fig.show()\n"
      ],
      "metadata": {
        "id": "5Kaa4iONYnFr",
        "colab": {
          "base_uri": "https://localhost:8080/",
          "height": 542
        },
        "outputId": "a4b454f0-20cd-41c3-9b68-11e068f2131f"
      },
      "execution_count": 242,
      "outputs": [
        {
          "output_type": "display_data",
          "data": {
            "text/html": [
              "<html>\n",
              "<head><meta charset=\"utf-8\" /></head>\n",
              "<body>\n",
              "    <div>            <script src=\"https://cdnjs.cloudflare.com/ajax/libs/mathjax/2.7.5/MathJax.js?config=TeX-AMS-MML_SVG\"></script><script type=\"text/javascript\">if (window.MathJax) {MathJax.Hub.Config({SVG: {font: \"STIX-Web\"}});}</script>                <script type=\"text/javascript\">window.PlotlyConfig = {MathJaxConfig: 'local'};</script>\n",
              "        <script src=\"https://cdn.plot.ly/plotly-2.8.3.min.js\"></script>                <div id=\"21af555b-371e-4dd9-a6a7-343b3551fe3c\" class=\"plotly-graph-div\" style=\"height:525px; width:100%;\"></div>            <script type=\"text/javascript\">                                    window.PLOTLYENV=window.PLOTLYENV || {};                                    if (document.getElementById(\"21af555b-371e-4dd9-a6a7-343b3551fe3c\")) {                    Plotly.newPlot(                        \"21af555b-371e-4dd9-a6a7-343b3551fe3c\",                        [{\"cells\":{\"align\":\"left\",\"values\":[[\"We Built This City\",\"It's Plenty\",\"Crazy Tings\",\"High And Low\",\"Manta Rays\",\"Souvenirs d'un autre monde\",\"Sound of Rain\",\"deadman\",\"\\u041a\\u043e\\u0442\\u044b \\u0431\\u044b\\u0441\\u0442\\u0440\\u043e\\u0433\\u043e \\u0438\\u0433\\u043d\\u043e\\u0440\\u0438\\u0440\\u043e\\u0432\\u0430\\u043d\\u0438\\u044f\",\"Cold Shoulders\",\"The Art of Me\",\"Identity\",\"\\u041a\\u0438\\u0431\\u0435\\u0440\\u0441\\u043f\\u043e\\u0440\\u0442\",\"1AM FREESTYLE\",\"Up Hill\"],[\"Starship\",\"Burna Boy\",\"Tems\",\"Empire of the Sun\",\"chloe moriondo\",\"Alcest\",\"Mason Lively\",\"Souly Had\",\"-1\",\"Hacktivist\",\"The Rust Belt\",\"grandson\",\"MC Senechka\",\"Joji\",\"Alexi Delano\"],[\"<a href=\\\"https://open.spotify.com/track/6OnfBiiSc9RGKiBKKtZXgQ\\\">\\ud83d\\udd17</a>\",\"<a href=\\\"https://open.spotify.com/track/5hVjoL3sHepZROri63wBxP\\\">\\ud83d\\udd17</a>\",\"<a href=\\\"https://open.spotify.com/track/5VQagemEOLpJJikcLzDNYR\\\">\\ud83d\\udd17</a>\",\"<a href=\\\"https://open.spotify.com/track/2Q7PDjPz7h559wBF97lO07\\\">\\ud83d\\udd17</a>\",\"<a href=\\\"https://open.spotify.com/track/7oTi7GKtvXnwnaVFk6OkLU\\\">\\ud83d\\udd17</a>\",\"<a href=\\\"https://open.spotify.com/track/1eD8fNbyfyXWrTLokilmEM\\\">\\ud83d\\udd17</a>\",\"<a href=\\\"https://open.spotify.com/track/1i63IAjJXD2HsFozWGfU8e\\\">\\ud83d\\udd17</a>\",\"<a href=\\\"https://open.spotify.com/track/5wT0AQeYT09WqR7r0eYZWs\\\">\\ud83d\\udd17</a>\",\"<a href=\\\"https://open.spotify.com/track/1IMgxuRHqj2TB5Cc6XW9Kh\\\">\\ud83d\\udd17</a>\",\"<a href=\\\"https://open.spotify.com/track/5BVmNpNn4ZDUUZEVGNfrCL\\\">\\ud83d\\udd17</a>\",\"<a href=\\\"https://open.spotify.com/track/06128WGK7ZU385qqoIh0p9\\\">\\ud83d\\udd17</a>\",\"<a href=\\\"https://open.spotify.com/track/6xDpjffkQ4daA6AiR7F15m\\\">\\ud83d\\udd17</a>\",\"<a href=\\\"https://open.spotify.com/track/0hJIp5nj3LNqBihdfxITke\\\">\\ud83d\\udd17</a>\",\"<a href=\\\"https://open.spotify.com/track/0FqBNLXlTNimxmVRdDMj6b\\\">\\ud83d\\udd17</a>\",\"<a href=\\\"https://open.spotify.com/track/3USRXAS8K5C5pDR01x1yZp\\\">\\ud83d\\udd17</a>\"]]},\"columnwidth\":[1,1,0.2],\"header\":{\"fill\":{\"color\":\"pink\"},\"values\":[\"<b>Song Recommendation</b>\",\"<b>Artist</b>\",\"<b>Link</b>\"]},\"type\":\"table\"}],                        {\"template\":{\"data\":{\"bar\":[{\"error_x\":{\"color\":\"#2a3f5f\"},\"error_y\":{\"color\":\"#2a3f5f\"},\"marker\":{\"line\":{\"color\":\"#E5ECF6\",\"width\":0.5},\"pattern\":{\"fillmode\":\"overlay\",\"size\":10,\"solidity\":0.2}},\"type\":\"bar\"}],\"barpolar\":[{\"marker\":{\"line\":{\"color\":\"#E5ECF6\",\"width\":0.5},\"pattern\":{\"fillmode\":\"overlay\",\"size\":10,\"solidity\":0.2}},\"type\":\"barpolar\"}],\"carpet\":[{\"aaxis\":{\"endlinecolor\":\"#2a3f5f\",\"gridcolor\":\"white\",\"linecolor\":\"white\",\"minorgridcolor\":\"white\",\"startlinecolor\":\"#2a3f5f\"},\"baxis\":{\"endlinecolor\":\"#2a3f5f\",\"gridcolor\":\"white\",\"linecolor\":\"white\",\"minorgridcolor\":\"white\",\"startlinecolor\":\"#2a3f5f\"},\"type\":\"carpet\"}],\"choropleth\":[{\"colorbar\":{\"outlinewidth\":0,\"ticks\":\"\"},\"type\":\"choropleth\"}],\"contour\":[{\"colorbar\":{\"outlinewidth\":0,\"ticks\":\"\"},\"colorscale\":[[0.0,\"#0d0887\"],[0.1111111111111111,\"#46039f\"],[0.2222222222222222,\"#7201a8\"],[0.3333333333333333,\"#9c179e\"],[0.4444444444444444,\"#bd3786\"],[0.5555555555555556,\"#d8576b\"],[0.6666666666666666,\"#ed7953\"],[0.7777777777777778,\"#fb9f3a\"],[0.8888888888888888,\"#fdca26\"],[1.0,\"#f0f921\"]],\"type\":\"contour\"}],\"contourcarpet\":[{\"colorbar\":{\"outlinewidth\":0,\"ticks\":\"\"},\"type\":\"contourcarpet\"}],\"heatmap\":[{\"colorbar\":{\"outlinewidth\":0,\"ticks\":\"\"},\"colorscale\":[[0.0,\"#0d0887\"],[0.1111111111111111,\"#46039f\"],[0.2222222222222222,\"#7201a8\"],[0.3333333333333333,\"#9c179e\"],[0.4444444444444444,\"#bd3786\"],[0.5555555555555556,\"#d8576b\"],[0.6666666666666666,\"#ed7953\"],[0.7777777777777778,\"#fb9f3a\"],[0.8888888888888888,\"#fdca26\"],[1.0,\"#f0f921\"]],\"type\":\"heatmap\"}],\"heatmapgl\":[{\"colorbar\":{\"outlinewidth\":0,\"ticks\":\"\"},\"colorscale\":[[0.0,\"#0d0887\"],[0.1111111111111111,\"#46039f\"],[0.2222222222222222,\"#7201a8\"],[0.3333333333333333,\"#9c179e\"],[0.4444444444444444,\"#bd3786\"],[0.5555555555555556,\"#d8576b\"],[0.6666666666666666,\"#ed7953\"],[0.7777777777777778,\"#fb9f3a\"],[0.8888888888888888,\"#fdca26\"],[1.0,\"#f0f921\"]],\"type\":\"heatmapgl\"}],\"histogram\":[{\"marker\":{\"pattern\":{\"fillmode\":\"overlay\",\"size\":10,\"solidity\":0.2}},\"type\":\"histogram\"}],\"histogram2d\":[{\"colorbar\":{\"outlinewidth\":0,\"ticks\":\"\"},\"colorscale\":[[0.0,\"#0d0887\"],[0.1111111111111111,\"#46039f\"],[0.2222222222222222,\"#7201a8\"],[0.3333333333333333,\"#9c179e\"],[0.4444444444444444,\"#bd3786\"],[0.5555555555555556,\"#d8576b\"],[0.6666666666666666,\"#ed7953\"],[0.7777777777777778,\"#fb9f3a\"],[0.8888888888888888,\"#fdca26\"],[1.0,\"#f0f921\"]],\"type\":\"histogram2d\"}],\"histogram2dcontour\":[{\"colorbar\":{\"outlinewidth\":0,\"ticks\":\"\"},\"colorscale\":[[0.0,\"#0d0887\"],[0.1111111111111111,\"#46039f\"],[0.2222222222222222,\"#7201a8\"],[0.3333333333333333,\"#9c179e\"],[0.4444444444444444,\"#bd3786\"],[0.5555555555555556,\"#d8576b\"],[0.6666666666666666,\"#ed7953\"],[0.7777777777777778,\"#fb9f3a\"],[0.8888888888888888,\"#fdca26\"],[1.0,\"#f0f921\"]],\"type\":\"histogram2dcontour\"}],\"mesh3d\":[{\"colorbar\":{\"outlinewidth\":0,\"ticks\":\"\"},\"type\":\"mesh3d\"}],\"parcoords\":[{\"line\":{\"colorbar\":{\"outlinewidth\":0,\"ticks\":\"\"}},\"type\":\"parcoords\"}],\"pie\":[{\"automargin\":true,\"type\":\"pie\"}],\"scatter\":[{\"marker\":{\"colorbar\":{\"outlinewidth\":0,\"ticks\":\"\"}},\"type\":\"scatter\"}],\"scatter3d\":[{\"line\":{\"colorbar\":{\"outlinewidth\":0,\"ticks\":\"\"}},\"marker\":{\"colorbar\":{\"outlinewidth\":0,\"ticks\":\"\"}},\"type\":\"scatter3d\"}],\"scattercarpet\":[{\"marker\":{\"colorbar\":{\"outlinewidth\":0,\"ticks\":\"\"}},\"type\":\"scattercarpet\"}],\"scattergeo\":[{\"marker\":{\"colorbar\":{\"outlinewidth\":0,\"ticks\":\"\"}},\"type\":\"scattergeo\"}],\"scattergl\":[{\"marker\":{\"colorbar\":{\"outlinewidth\":0,\"ticks\":\"\"}},\"type\":\"scattergl\"}],\"scattermapbox\":[{\"marker\":{\"colorbar\":{\"outlinewidth\":0,\"ticks\":\"\"}},\"type\":\"scattermapbox\"}],\"scatterpolar\":[{\"marker\":{\"colorbar\":{\"outlinewidth\":0,\"ticks\":\"\"}},\"type\":\"scatterpolar\"}],\"scatterpolargl\":[{\"marker\":{\"colorbar\":{\"outlinewidth\":0,\"ticks\":\"\"}},\"type\":\"scatterpolargl\"}],\"scatterternary\":[{\"marker\":{\"colorbar\":{\"outlinewidth\":0,\"ticks\":\"\"}},\"type\":\"scatterternary\"}],\"surface\":[{\"colorbar\":{\"outlinewidth\":0,\"ticks\":\"\"},\"colorscale\":[[0.0,\"#0d0887\"],[0.1111111111111111,\"#46039f\"],[0.2222222222222222,\"#7201a8\"],[0.3333333333333333,\"#9c179e\"],[0.4444444444444444,\"#bd3786\"],[0.5555555555555556,\"#d8576b\"],[0.6666666666666666,\"#ed7953\"],[0.7777777777777778,\"#fb9f3a\"],[0.8888888888888888,\"#fdca26\"],[1.0,\"#f0f921\"]],\"type\":\"surface\"}],\"table\":[{\"cells\":{\"fill\":{\"color\":\"#EBF0F8\"},\"line\":{\"color\":\"white\"}},\"header\":{\"fill\":{\"color\":\"#C8D4E3\"},\"line\":{\"color\":\"white\"}},\"type\":\"table\"}]},\"layout\":{\"annotationdefaults\":{\"arrowcolor\":\"#2a3f5f\",\"arrowhead\":0,\"arrowwidth\":1},\"autotypenumbers\":\"strict\",\"coloraxis\":{\"colorbar\":{\"outlinewidth\":0,\"ticks\":\"\"}},\"colorscale\":{\"diverging\":[[0,\"#8e0152\"],[0.1,\"#c51b7d\"],[0.2,\"#de77ae\"],[0.3,\"#f1b6da\"],[0.4,\"#fde0ef\"],[0.5,\"#f7f7f7\"],[0.6,\"#e6f5d0\"],[0.7,\"#b8e186\"],[0.8,\"#7fbc41\"],[0.9,\"#4d9221\"],[1,\"#276419\"]],\"sequential\":[[0.0,\"#0d0887\"],[0.1111111111111111,\"#46039f\"],[0.2222222222222222,\"#7201a8\"],[0.3333333333333333,\"#9c179e\"],[0.4444444444444444,\"#bd3786\"],[0.5555555555555556,\"#d8576b\"],[0.6666666666666666,\"#ed7953\"],[0.7777777777777778,\"#fb9f3a\"],[0.8888888888888888,\"#fdca26\"],[1.0,\"#f0f921\"]],\"sequentialminus\":[[0.0,\"#0d0887\"],[0.1111111111111111,\"#46039f\"],[0.2222222222222222,\"#7201a8\"],[0.3333333333333333,\"#9c179e\"],[0.4444444444444444,\"#bd3786\"],[0.5555555555555556,\"#d8576b\"],[0.6666666666666666,\"#ed7953\"],[0.7777777777777778,\"#fb9f3a\"],[0.8888888888888888,\"#fdca26\"],[1.0,\"#f0f921\"]]},\"colorway\":[\"#636efa\",\"#EF553B\",\"#00cc96\",\"#ab63fa\",\"#FFA15A\",\"#19d3f3\",\"#FF6692\",\"#B6E880\",\"#FF97FF\",\"#FECB52\"],\"font\":{\"color\":\"#2a3f5f\"},\"geo\":{\"bgcolor\":\"white\",\"lakecolor\":\"white\",\"landcolor\":\"#E5ECF6\",\"showlakes\":true,\"showland\":true,\"subunitcolor\":\"white\"},\"hoverlabel\":{\"align\":\"left\"},\"hovermode\":\"closest\",\"mapbox\":{\"style\":\"light\"},\"paper_bgcolor\":\"white\",\"plot_bgcolor\":\"#E5ECF6\",\"polar\":{\"angularaxis\":{\"gridcolor\":\"white\",\"linecolor\":\"white\",\"ticks\":\"\"},\"bgcolor\":\"#E5ECF6\",\"radialaxis\":{\"gridcolor\":\"white\",\"linecolor\":\"white\",\"ticks\":\"\"}},\"scene\":{\"xaxis\":{\"backgroundcolor\":\"#E5ECF6\",\"gridcolor\":\"white\",\"gridwidth\":2,\"linecolor\":\"white\",\"showbackground\":true,\"ticks\":\"\",\"zerolinecolor\":\"white\"},\"yaxis\":{\"backgroundcolor\":\"#E5ECF6\",\"gridcolor\":\"white\",\"gridwidth\":2,\"linecolor\":\"white\",\"showbackground\":true,\"ticks\":\"\",\"zerolinecolor\":\"white\"},\"zaxis\":{\"backgroundcolor\":\"#E5ECF6\",\"gridcolor\":\"white\",\"gridwidth\":2,\"linecolor\":\"white\",\"showbackground\":true,\"ticks\":\"\",\"zerolinecolor\":\"white\"}},\"shapedefaults\":{\"line\":{\"color\":\"#2a3f5f\"}},\"ternary\":{\"aaxis\":{\"gridcolor\":\"white\",\"linecolor\":\"white\",\"ticks\":\"\"},\"baxis\":{\"gridcolor\":\"white\",\"linecolor\":\"white\",\"ticks\":\"\"},\"bgcolor\":\"#E5ECF6\",\"caxis\":{\"gridcolor\":\"white\",\"linecolor\":\"white\",\"ticks\":\"\"}},\"title\":{\"x\":0.05},\"xaxis\":{\"automargin\":true,\"gridcolor\":\"white\",\"linecolor\":\"white\",\"ticks\":\"\",\"title\":{\"standoff\":15},\"zerolinecolor\":\"white\",\"zerolinewidth\":2},\"yaxis\":{\"automargin\":true,\"gridcolor\":\"white\",\"linecolor\":\"white\",\"ticks\":\"\",\"title\":{\"standoff\":15},\"zerolinecolor\":\"white\",\"zerolinewidth\":2}}}},                        {\"responsive\": true}                    ).then(function(){\n",
              "                            \n",
              "var gd = document.getElementById('21af555b-371e-4dd9-a6a7-343b3551fe3c');\n",
              "var x = new MutationObserver(function (mutations, observer) {{\n",
              "        var display = window.getComputedStyle(gd).display;\n",
              "        if (!display || display === 'none') {{\n",
              "            console.log([gd, 'removed!']);\n",
              "            Plotly.purge(gd);\n",
              "            observer.disconnect();\n",
              "        }}\n",
              "}});\n",
              "\n",
              "// Listen for the removal of the full notebook cells\n",
              "var notebookContainer = gd.closest('#notebook-container');\n",
              "if (notebookContainer) {{\n",
              "    x.observe(notebookContainer, {childList: true});\n",
              "}}\n",
              "\n",
              "// Listen for the clearing of the current output cell\n",
              "var outputEl = gd.closest('.output');\n",
              "if (outputEl) {{\n",
              "    x.observe(outputEl, {childList: true});\n",
              "}}\n",
              "\n",
              "                        })                };                            </script>        </div>\n",
              "</body>\n",
              "</html>"
            ]
          },
          "metadata": {}
        }
      ]
    }
  ]
}